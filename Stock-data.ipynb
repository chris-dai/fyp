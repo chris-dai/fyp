{
 "cells": [
  {
   "cell_type": "markdown",
   "metadata": {},
   "source": [
    "### 1. Problem statement\n",
    " - Test set -> UA stock from 2019-01-01 to 2020-12-31"
   ]
  },
  {
   "cell_type": "markdown",
   "metadata": {},
   "source": [
    "### 2. Import library"
   ]
  },
  {
   "cell_type": "code",
   "execution_count": 2,
   "metadata": {},
   "outputs": [],
   "source": [
    "import numpy as np\n",
    "import matplotlib.pyplot as plt\n",
    "import pandas as pd\n",
    "import yfinance as yf\n",
    "from sklearn.preprocessing import MinMaxScaler\n",
    "from tensorflow.keras.models import Sequential\n",
    "from tensorflow.keras.layers import LSTM\n",
    "from tensorflow.keras.layers import Dense\n",
    "from tensorflow.keras.layers import Dropout"
   ]
  },
  {
   "cell_type": "markdown",
   "metadata": {},
   "source": [
    "##### 2.1 Download relevant stock data"
   ]
  },
  {
   "cell_type": "code",
   "execution_count": 2,
   "metadata": {},
   "outputs": [],
   "source": [
    "UA = yf.Ticker(\"UAL\")\n",
    "DA = yf.Ticker(\"DAL\")\n",
    "AA = yf.Ticker(\"AAL\")"
   ]
  },
  {
   "cell_type": "code",
   "execution_count": 4,
   "metadata": {},
   "outputs": [
    {
     "name": "stdout",
     "output_type": "stream",
     "text": [
      "[*********************100%***********************]  1 of 1 completed\n"
     ]
    }
   ],
   "source": [
    "# Download stock data then export as CSV\n",
    "data_df = yf.download(\"UAL\", start=\"2010-01-01\", end=\"2021-12-31\")\n",
    "data_df.to_csv('UAL.csv')"
   ]
  },
  {
   "cell_type": "code",
   "execution_count": 5,
   "metadata": {},
   "outputs": [
    {
     "name": "stdout",
     "output_type": "stream",
     "text": [
      "[*********************100%***********************]  1 of 1 completed\n"
     ]
    }
   ],
   "source": [
    "# Download stock data then export as CSV\n",
    "data_df = yf.download(\"DAL\", start=\"2010-01-01\", end=\"2021-12-31\")\n",
    "data_df.to_csv('DAL.csv')"
   ]
  },
  {
   "cell_type": "code",
   "execution_count": 8,
   "metadata": {},
   "outputs": [
    {
     "name": "stdout",
     "output_type": "stream",
     "text": [
      "[*********************100%***********************]  1 of 1 completed\n"
     ]
    }
   ],
   "source": [
    "# Download stock data then export as CSV\n",
    "data_df = yf.download(\"AAL\", start=\"2010-01-01\", end=\"2021-12-31\")\n",
    "data_df.to_csv('AAL.csv')"
   ]
  },
  {
   "cell_type": "code",
   "execution_count": 7,
   "metadata": {},
   "outputs": [
    {
     "data": {
      "text/html": [
       "<div>\n",
       "<style scoped>\n",
       "    .dataframe tbody tr th:only-of-type {\n",
       "        vertical-align: middle;\n",
       "    }\n",
       "\n",
       "    .dataframe tbody tr th {\n",
       "        vertical-align: top;\n",
       "    }\n",
       "\n",
       "    .dataframe thead th {\n",
       "        text-align: right;\n",
       "    }\n",
       "</style>\n",
       "<table border=\"1\" class=\"dataframe\">\n",
       "  <thead>\n",
       "    <tr style=\"text-align: right;\">\n",
       "      <th></th>\n",
       "      <th>Open</th>\n",
       "      <th>High</th>\n",
       "      <th>Low</th>\n",
       "      <th>Close</th>\n",
       "      <th>Adj Close</th>\n",
       "      <th>Volume</th>\n",
       "    </tr>\n",
       "    <tr>\n",
       "      <th>Date</th>\n",
       "      <th></th>\n",
       "      <th></th>\n",
       "      <th></th>\n",
       "      <th></th>\n",
       "      <th></th>\n",
       "      <th></th>\n",
       "    </tr>\n",
       "  </thead>\n",
       "  <tbody>\n",
       "    <tr>\n",
       "      <th>2010-01-04</th>\n",
       "      <td>4.840000</td>\n",
       "      <td>4.940000</td>\n",
       "      <td>4.660000</td>\n",
       "      <td>4.770000</td>\n",
       "      <td>4.496877</td>\n",
       "      <td>9837300</td>\n",
       "    </tr>\n",
       "    <tr>\n",
       "      <th>2010-01-05</th>\n",
       "      <td>4.790000</td>\n",
       "      <td>5.370000</td>\n",
       "      <td>4.710000</td>\n",
       "      <td>5.310000</td>\n",
       "      <td>5.005957</td>\n",
       "      <td>25212000</td>\n",
       "    </tr>\n",
       "    <tr>\n",
       "      <th>2010-01-06</th>\n",
       "      <td>5.190000</td>\n",
       "      <td>5.380000</td>\n",
       "      <td>5.000000</td>\n",
       "      <td>5.090000</td>\n",
       "      <td>4.798554</td>\n",
       "      <td>16597900</td>\n",
       "    </tr>\n",
       "    <tr>\n",
       "      <th>2010-01-07</th>\n",
       "      <td>5.060000</td>\n",
       "      <td>5.430000</td>\n",
       "      <td>5.050000</td>\n",
       "      <td>5.240000</td>\n",
       "      <td>4.939964</td>\n",
       "      <td>14033400</td>\n",
       "    </tr>\n",
       "    <tr>\n",
       "      <th>2010-01-08</th>\n",
       "      <td>5.270000</td>\n",
       "      <td>5.430000</td>\n",
       "      <td>5.060000</td>\n",
       "      <td>5.140000</td>\n",
       "      <td>4.845691</td>\n",
       "      <td>12760000</td>\n",
       "    </tr>\n",
       "    <tr>\n",
       "      <th>...</th>\n",
       "      <td>...</td>\n",
       "      <td>...</td>\n",
       "      <td>...</td>\n",
       "      <td>...</td>\n",
       "      <td>...</td>\n",
       "      <td>...</td>\n",
       "    </tr>\n",
       "    <tr>\n",
       "      <th>2021-12-23</th>\n",
       "      <td>18.590000</td>\n",
       "      <td>18.719999</td>\n",
       "      <td>18.150000</td>\n",
       "      <td>18.260000</td>\n",
       "      <td>18.260000</td>\n",
       "      <td>32321000</td>\n",
       "    </tr>\n",
       "    <tr>\n",
       "      <th>2021-12-27</th>\n",
       "      <td>17.660000</td>\n",
       "      <td>18.240000</td>\n",
       "      <td>17.549999</td>\n",
       "      <td>18.170000</td>\n",
       "      <td>18.170000</td>\n",
       "      <td>28059300</td>\n",
       "    </tr>\n",
       "    <tr>\n",
       "      <th>2021-12-28</th>\n",
       "      <td>18.030001</td>\n",
       "      <td>18.639999</td>\n",
       "      <td>17.920000</td>\n",
       "      <td>18.540001</td>\n",
       "      <td>18.540001</td>\n",
       "      <td>28263600</td>\n",
       "    </tr>\n",
       "    <tr>\n",
       "      <th>2021-12-29</th>\n",
       "      <td>18.400000</td>\n",
       "      <td>18.430000</td>\n",
       "      <td>17.990000</td>\n",
       "      <td>18.049999</td>\n",
       "      <td>18.049999</td>\n",
       "      <td>22627000</td>\n",
       "    </tr>\n",
       "    <tr>\n",
       "      <th>2021-12-30</th>\n",
       "      <td>17.980000</td>\n",
       "      <td>18.379999</td>\n",
       "      <td>17.959999</td>\n",
       "      <td>18.070000</td>\n",
       "      <td>18.070000</td>\n",
       "      <td>28158200</td>\n",
       "    </tr>\n",
       "  </tbody>\n",
       "</table>\n",
       "<p>3020 rows × 6 columns</p>\n",
       "</div>"
      ],
      "text/plain": [
       "                 Open       High        Low      Close  Adj Close    Volume\n",
       "Date                                                                       \n",
       "2010-01-04   4.840000   4.940000   4.660000   4.770000   4.496877   9837300\n",
       "2010-01-05   4.790000   5.370000   4.710000   5.310000   5.005957  25212000\n",
       "2010-01-06   5.190000   5.380000   5.000000   5.090000   4.798554  16597900\n",
       "2010-01-07   5.060000   5.430000   5.050000   5.240000   4.939964  14033400\n",
       "2010-01-08   5.270000   5.430000   5.060000   5.140000   4.845691  12760000\n",
       "...               ...        ...        ...        ...        ...       ...\n",
       "2021-12-23  18.590000  18.719999  18.150000  18.260000  18.260000  32321000\n",
       "2021-12-27  17.660000  18.240000  17.549999  18.170000  18.170000  28059300\n",
       "2021-12-28  18.030001  18.639999  17.920000  18.540001  18.540001  28263600\n",
       "2021-12-29  18.400000  18.430000  17.990000  18.049999  18.049999  22627000\n",
       "2021-12-30  17.980000  18.379999  17.959999  18.070000  18.070000  28158200\n",
       "\n",
       "[3020 rows x 6 columns]"
      ]
     },
     "execution_count": 7,
     "metadata": {},
     "output_type": "execute_result"
    }
   ],
   "source": [
    "data_df.shape\n",
    "data_df"
   ]
  },
  {
   "cell_type": "markdown",
   "metadata": {},
   "source": [
    "### 3. Data processing"
   ]
  },
  {
   "cell_type": "markdown",
   "metadata": {},
   "source": [
    "#### 3.0 import the data"
   ]
  },
  {
   "cell_type": "code",
   "execution_count": 5,
   "metadata": {},
   "outputs": [],
   "source": [
    "dataset_train = pd.read_csv('UA_stock.csv')"
   ]
  },
  {
   "cell_type": "code",
   "execution_count": 6,
   "metadata": {},
   "outputs": [
    {
     "data": {
      "text/html": [
       "<div>\n",
       "<style scoped>\n",
       "    .dataframe tbody tr th:only-of-type {\n",
       "        vertical-align: middle;\n",
       "    }\n",
       "\n",
       "    .dataframe tbody tr th {\n",
       "        vertical-align: top;\n",
       "    }\n",
       "\n",
       "    .dataframe thead th {\n",
       "        text-align: right;\n",
       "    }\n",
       "</style>\n",
       "<table border=\"1\" class=\"dataframe\">\n",
       "  <thead>\n",
       "    <tr style=\"text-align: right;\">\n",
       "      <th></th>\n",
       "      <th>Date</th>\n",
       "      <th>Open</th>\n",
       "      <th>High</th>\n",
       "      <th>Low</th>\n",
       "      <th>Close</th>\n",
       "      <th>Adj Close</th>\n",
       "      <th>Volume</th>\n",
       "    </tr>\n",
       "  </thead>\n",
       "  <tbody>\n",
       "    <tr>\n",
       "      <th>0</th>\n",
       "      <td>2019-01-02</td>\n",
       "      <td>81.690002</td>\n",
       "      <td>84.290001</td>\n",
       "      <td>81.410004</td>\n",
       "      <td>84.180000</td>\n",
       "      <td>84.180000</td>\n",
       "      <td>2973400</td>\n",
       "    </tr>\n",
       "    <tr>\n",
       "      <th>1</th>\n",
       "      <td>2019-01-03</td>\n",
       "      <td>83.260002</td>\n",
       "      <td>83.260002</td>\n",
       "      <td>78.379997</td>\n",
       "      <td>80.000000</td>\n",
       "      <td>80.000000</td>\n",
       "      <td>6426200</td>\n",
       "    </tr>\n",
       "    <tr>\n",
       "      <th>2</th>\n",
       "      <td>2019-01-04</td>\n",
       "      <td>80.879997</td>\n",
       "      <td>83.949997</td>\n",
       "      <td>80.769997</td>\n",
       "      <td>82.680000</td>\n",
       "      <td>82.680000</td>\n",
       "      <td>3808300</td>\n",
       "    </tr>\n",
       "    <tr>\n",
       "      <th>3</th>\n",
       "      <td>2019-01-07</td>\n",
       "      <td>82.570000</td>\n",
       "      <td>83.919998</td>\n",
       "      <td>81.449997</td>\n",
       "      <td>83.230003</td>\n",
       "      <td>83.230003</td>\n",
       "      <td>2653000</td>\n",
       "    </tr>\n",
       "    <tr>\n",
       "      <th>4</th>\n",
       "      <td>2019-01-08</td>\n",
       "      <td>83.300003</td>\n",
       "      <td>84.620003</td>\n",
       "      <td>81.889999</td>\n",
       "      <td>82.379997</td>\n",
       "      <td>82.379997</td>\n",
       "      <td>3910000</td>\n",
       "    </tr>\n",
       "  </tbody>\n",
       "</table>\n",
       "</div>"
      ],
      "text/plain": [
       "         Date       Open       High        Low      Close  Adj Close   Volume\n",
       "0  2019-01-02  81.690002  84.290001  81.410004  84.180000  84.180000  2973400\n",
       "1  2019-01-03  83.260002  83.260002  78.379997  80.000000  80.000000  6426200\n",
       "2  2019-01-04  80.879997  83.949997  80.769997  82.680000  82.680000  3808300\n",
       "3  2019-01-07  82.570000  83.919998  81.449997  83.230003  83.230003  2653000\n",
       "4  2019-01-08  83.300003  84.620003  81.889999  82.379997  82.379997  3910000"
      ]
     },
     "execution_count": 6,
     "metadata": {},
     "output_type": "execute_result"
    }
   ],
   "source": [
    "dataset_train.head()"
   ]
  },
  {
   "cell_type": "code",
   "execution_count": 7,
   "metadata": {},
   "outputs": [],
   "source": [
    "#keras only takes numpy array\n",
    "training_set = dataset_train.iloc[:, 1: 2].values"
   ]
  },
  {
   "cell_type": "code",
   "execution_count": 8,
   "metadata": {},
   "outputs": [
    {
     "data": {
      "text/plain": [
       "(504, 1)"
      ]
     },
     "execution_count": 8,
     "metadata": {},
     "output_type": "execute_result"
    }
   ],
   "source": [
    "training_set.shape"
   ]
  },
  {
   "cell_type": "code",
   "execution_count": 9,
   "metadata": {},
   "outputs": [
    {
     "data": {
      "image/png": "[encoded data removed]",
      "text/plain": [
       "<Figure size 1296x576 with 1 Axes>"
      ]
     },
     "metadata": {
      "needs_background": "light"
     },
     "output_type": "display_data"
    }
   ],
   "source": [
    "plt.figure(figsize=(18, 8))\n",
    "plt.plot(dataset_train['Open'])\n",
    "plt.title(\"United Airline Stock Open Prices\")\n",
    "plt.xlabel(\"Time (oldest -> latest)\")\n",
    "plt.ylabel(\"Stock Open Price\")\n",
    "plt.show()"
   ]
  },
  {
   "cell_type": "markdown",
   "metadata": {},
   "source": [
    "#### 3.1 Feature scaling"
   ]
  },
  {
   "cell_type": "code",
   "execution_count": 10,
   "metadata": {},
   "outputs": [
    {
     "name": "stdout",
     "output_type": "stream",
     "text": [
      "0\n"
     ]
    }
   ],
   "source": [
    "import os\n",
    "if os.path.exists('config.py'):\n",
    "    print(1)\n",
    "else:\n",
    "    print(0)"
   ]
  },
  {
   "cell_type": "code",
   "execution_count": 11,
   "metadata": {},
   "outputs": [],
   "source": [
    "sc = MinMaxScaler(feature_range = (0, 1))\n",
    "#fit: get min/max of train data\n",
    "training_set_scaled = sc.fit_transform(training_set)"
   ]
  },
  {
   "cell_type": "markdown",
   "metadata": {},
   "source": [
    "#### 3.2 Data structure creation"
   ]
  },
  {
   "cell_type": "markdown",
   "metadata": {},
   "source": [
    "- taking the reference of past 60 days of data to predict the future stock price.  \n",
    "- It is observed that taking 60 days of past data gives us best results.  \n",
    "- In this data set 60 days of data means 3 months of data.  \n",
    "- Every month as 20 days of Stock price.   \n",
    "- X train will have data of 60 days prior to our date and y train will have data of one day after our date"
   ]
  },
  {
   "cell_type": "code",
   "execution_count": 12,
   "metadata": {},
   "outputs": [],
   "source": [
    "## 60 timesteps and 1 output\n",
    "X_train = []\n",
    "y_train = []\n",
    "for i in range(60, len(training_set_scaled)):\n",
    "    X_train.append(training_set_scaled[i-60: i, 0])\n",
    "    y_train.append(training_set_scaled[i, 0])\n",
    "\n",
    "X_train, y_train = np.array(X_train), np.array(y_train)"
   ]
  },
  {
   "cell_type": "code",
   "execution_count": 13,
   "metadata": {},
   "outputs": [
    {
     "data": {
      "text/plain": [
       "(444, 60)"
      ]
     },
     "execution_count": 13,
     "metadata": {},
     "output_type": "execute_result"
    }
   ],
   "source": [
    "X_train.shape"
   ]
  },
  {
   "cell_type": "code",
   "execution_count": 14,
   "metadata": {},
   "outputs": [
    {
     "data": {
      "text/plain": [
       "(444,)"
      ]
     },
     "execution_count": 14,
     "metadata": {},
     "output_type": "execute_result"
    }
   ],
   "source": [
    "y_train.shape"
   ]
  },
  {
   "cell_type": "markdown",
   "metadata": {},
   "source": [
    "#### 3.3 Data reshaping"
   ]
  },
  {
   "cell_type": "code",
   "execution_count": 15,
   "metadata": {},
   "outputs": [],
   "source": [
    "X_train = np.reshape(X_train, newshape = \n",
    "                     (X_train.shape[0], X_train.shape[1], 1))"
   ]
  },
  {
   "cell_type": "markdown",
   "metadata": {},
   "source": [
    "1. Number of stock prices - 444  \n",
    "2. Number of time steps - 60  \n",
    "3. Number of Indicator - 1  "
   ]
  },
  {
   "cell_type": "code",
   "execution_count": 16,
   "metadata": {},
   "outputs": [
    {
     "data": {
      "text/plain": [
       "(444, 60, 1)"
      ]
     },
     "execution_count": 16,
     "metadata": {},
     "output_type": "execute_result"
    }
   ],
   "source": [
    "X_train.shape"
   ]
  },
  {
   "cell_type": "markdown",
   "metadata": {},
   "source": [
    "### 4. Create & Fit Model"
   ]
  },
  {
   "cell_type": "markdown",
   "metadata": {},
   "source": [
    "#### 4.1 Create model"
   ]
  },
  {
   "cell_type": "code",
   "execution_count": 17,
   "metadata": {},
   "outputs": [],
   "source": [
    "regressor = Sequential()\n",
    "#add 1st lstm layer\n",
    "regressor.add(LSTM(units = 50, return_sequences = True, input_shape = (X_train.shape[1], 1)))\n",
    "regressor.add(Dropout(rate = 0.2))\n",
    "\n",
    "##add 2nd lstm layer: 50 neurons\n",
    "regressor.add(LSTM(units = 50, return_sequences = True))\n",
    "regressor.add(Dropout(rate = 0.2))\n",
    "\n",
    "##add 3rd lstm layer\n",
    "regressor.add(LSTM(units = 50, return_sequences = True))\n",
    "regressor.add(Dropout(rate = 0.2))\n",
    "\n",
    "##add 4th lstm layer\n",
    "regressor.add(LSTM(units = 50, return_sequences = False))\n",
    "regressor.add(Dropout(rate = 0.2))\n",
    "\n",
    "##add output layer\n",
    "regressor.add(Dense(units = 1))"
   ]
  },
  {
   "cell_type": "code",
   "execution_count": 18,
   "metadata": {},
   "outputs": [],
   "source": [
    "regressor.compile(optimizer = 'adam', loss = 'mean_squared_error')"
   ]
  },
  {
   "cell_type": "markdown",
   "metadata": {},
   "source": [
    "#### 4.2 Model fit"
   ]
  },
  {
   "cell_type": "code",
   "execution_count": 20,
   "metadata": {
    "scrolled": true
   },
   "outputs": [
    {
     "name": "stdout",
     "output_type": "stream",
     "text": [
      "Epoch 1/200\n",
      "14/14 [==============================] - 2s 125ms/step - loss: 0.0174\n",
      "Epoch 2/200\n",
      "14/14 [==============================] - 2s 129ms/step - loss: 0.0166\n",
      "Epoch 3/200\n",
      "14/14 [==============================] - 4s 255ms/step - loss: 0.0133\n",
      "Epoch 4/200\n",
      "14/14 [==============================] - 2s 118ms/step - loss: 0.0139\n",
      "Epoch 5/200\n",
      "14/14 [==============================] - 2s 134ms/step - loss: 0.0136\n",
      "Epoch 6/200\n",
      "14/14 [==============================] - 3s 219ms/step - loss: 0.0122\n",
      "Epoch 7/200\n",
      "14/14 [==============================] - 2s 133ms/step - loss: 0.0122\n",
      "Epoch 8/200\n",
      "14/14 [==============================] - 1s 94ms/step - loss: 0.0109\n",
      "Epoch 9/200\n",
      "14/14 [==============================] - 1s 98ms/step - loss: 0.0110\n",
      "Epoch 10/200\n",
      "14/14 [==============================] - 2s 115ms/step - loss: 0.0130\n",
      "Epoch 11/200\n",
      "14/14 [==============================] - 1s 104ms/step - loss: 0.0115\n",
      "Epoch 12/200\n",
      "14/14 [==============================] - 2s 108ms/step - loss: 0.0118\n",
      "Epoch 13/200\n",
      "14/14 [==============================] - 2s 116ms/step - loss: 0.0102\n",
      "Epoch 14/200\n",
      "14/14 [==============================] - 2s 157ms/step - loss: 0.0111\n",
      "Epoch 15/200\n",
      "14/14 [==============================] - 3s 205ms/step - loss: 0.0100\n",
      "Epoch 16/200\n",
      "14/14 [==============================] - 3s 199ms/step - loss: 0.0106\n",
      "Epoch 17/200\n",
      "14/14 [==============================] - 2s 132ms/step - loss: 0.0101\n",
      "Epoch 18/200\n",
      "14/14 [==============================] - 2s 128ms/step - loss: 0.0101\n",
      "Epoch 19/200\n",
      "14/14 [==============================] - 2s 120ms/step - loss: 0.0092\n",
      "Epoch 20/200\n",
      "14/14 [==============================] - 4s 257ms/step - loss: 0.0096\n",
      "Epoch 21/200\n",
      "14/14 [==============================] - 3s 192ms/step - loss: 0.0089\n",
      "Epoch 22/200\n",
      "14/14 [==============================] - 2s 146ms/step - loss: 0.0079\n",
      "Epoch 23/200\n",
      "14/14 [==============================] - 2s 126ms/step - loss: 0.0082\n",
      "Epoch 24/200\n",
      "14/14 [==============================] - 2s 110ms/step - loss: 0.0089\n",
      "Epoch 25/200\n",
      "14/14 [==============================] - 1s 104ms/step - loss: 0.0079\n",
      "Epoch 26/200\n",
      "14/14 [==============================] - 2s 113ms/step - loss: 0.0102\n",
      "Epoch 27/200\n",
      "14/14 [==============================] - 2s 113ms/step - loss: 0.0084\n",
      "Epoch 28/200\n",
      "14/14 [==============================] - 2s 121ms/step - loss: 0.0072\n",
      "Epoch 29/200\n",
      "14/14 [==============================] - 5s 341ms/step - loss: 0.0072\n",
      "Epoch 30/200\n",
      "14/14 [==============================] - 6s 454ms/step - loss: 0.0072\n",
      "Epoch 31/200\n",
      "14/14 [==============================] - 3s 214ms/step - loss: 0.0074\n",
      "Epoch 32/200\n",
      "14/14 [==============================] - 3s 194ms/step - loss: 0.0078\n",
      "Epoch 33/200\n",
      "14/14 [==============================] - 2s 165ms/step - loss: 0.0066\n",
      "Epoch 34/200\n",
      "14/14 [==============================] - 2s 136ms/step - loss: 0.0070\n",
      "Epoch 35/200\n",
      "14/14 [==============================] - 2s 126ms/step - loss: 0.0068\n",
      "Epoch 36/200\n",
      "14/14 [==============================] - 2s 147ms/step - loss: 0.0073\n",
      "Epoch 37/200\n",
      "14/14 [==============================] - 2s 117ms/step - loss: 0.0069\n",
      "Epoch 38/200\n",
      "14/14 [==============================] - 2s 127ms/step - loss: 0.0065\n",
      "Epoch 39/200\n",
      "14/14 [==============================] - 2s 110ms/step - loss: 0.0062\n",
      "Epoch 40/200\n",
      "14/14 [==============================] - 2s 135ms/step - loss: 0.0068\n",
      "Epoch 41/200\n",
      "14/14 [==============================] - 2s 149ms/step - loss: 0.0069\n",
      "Epoch 42/200\n",
      "14/14 [==============================] - 2s 122ms/step - loss: 0.0064\n",
      "Epoch 43/200\n",
      "14/14 [==============================] - 2s 113ms/step - loss: 0.0060\n",
      "Epoch 44/200\n",
      "14/14 [==============================] - 2s 128ms/step - loss: 0.0063\n",
      "Epoch 45/200\n",
      "14/14 [==============================] - 2s 108ms/step - loss: 0.0061\n",
      "Epoch 46/200\n",
      "14/14 [==============================] - 2s 136ms/step - loss: 0.0060\n",
      "Epoch 47/200\n",
      "14/14 [==============================] - 2s 134ms/step - loss: 0.0054\n",
      "Epoch 48/200\n",
      "14/14 [==============================] - 2s 125ms/step - loss: 0.0081\n",
      "Epoch 49/200\n",
      "14/14 [==============================] - 2s 109ms/step - loss: 0.0087\n",
      "Epoch 50/200\n",
      "14/14 [==============================] - 2s 124ms/step - loss: 0.0080\n",
      "Epoch 51/200\n",
      "14/14 [==============================] - 2s 122ms/step - loss: 0.0063\n",
      "Epoch 52/200\n",
      "14/14 [==============================] - 2s 108ms/step - loss: 0.0060\n",
      "Epoch 53/200\n",
      "14/14 [==============================] - 2s 117ms/step - loss: 0.0068\n",
      "Epoch 54/200\n",
      "14/14 [==============================] - 2s 110ms/step - loss: 0.0063\n",
      "Epoch 55/200\n",
      "14/14 [==============================] - 2s 108ms/step - loss: 0.0055\n",
      "Epoch 56/200\n",
      "14/14 [==============================] - 2s 114ms/step - loss: 0.0060\n",
      "Epoch 57/200\n",
      "14/14 [==============================] - 2s 108ms/step - loss: 0.0055\n",
      "Epoch 58/200\n",
      "14/14 [==============================] - 2s 117ms/step - loss: 0.0059\n",
      "Epoch 59/200\n",
      "14/14 [==============================] - 2s 121ms/step - loss: 0.0050\n",
      "Epoch 60/200\n",
      "14/14 [==============================] - 2s 106ms/step - loss: 0.0053\n",
      "Epoch 61/200\n",
      "14/14 [==============================] - 2s 113ms/step - loss: 0.0050\n",
      "Epoch 62/200\n",
      "14/14 [==============================] - 2s 122ms/step - loss: 0.0053\n",
      "Epoch 63/200\n",
      "14/14 [==============================] - 2s 109ms/step - loss: 0.0057\n",
      "Epoch 64/200\n",
      "14/14 [==============================] - 2s 112ms/step - loss: 0.0055\n",
      "Epoch 65/200\n",
      "14/14 [==============================] - 2s 110ms/step - loss: 0.0051\n",
      "Epoch 66/200\n",
      "14/14 [==============================] - 2s 113ms/step - loss: 0.0057\n",
      "Epoch 67/200\n",
      "14/14 [==============================] - 2s 107ms/step - loss: 0.0047\n",
      "Epoch 68/200\n",
      "14/14 [==============================] - 2s 115ms/step - loss: 0.0051\n",
      "Epoch 69/200\n",
      "14/14 [==============================] - 2s 123ms/step - loss: 0.0052\n",
      "Epoch 70/200\n",
      "14/14 [==============================] - 2s 113ms/step - loss: 0.0053\n",
      "Epoch 71/200\n",
      "14/14 [==============================] - 2s 110ms/step - loss: 0.0056\n",
      "Epoch 72/200\n",
      "14/14 [==============================] - 2s 122ms/step - loss: 0.0058\n",
      "Epoch 73/200\n",
      "14/14 [==============================] - 2s 113ms/step - loss: 0.0051\n",
      "Epoch 74/200\n",
      "14/14 [==============================] - 2s 110ms/step - loss: 0.0050\n",
      "Epoch 75/200\n",
      "14/14 [==============================] - 2s 120ms/step - loss: 0.0057\n",
      "Epoch 76/200\n",
      "14/14 [==============================] - 2s 113ms/step - loss: 0.0047\n",
      "Epoch 77/200\n",
      "14/14 [==============================] - 2s 111ms/step - loss: 0.0048\n",
      "Epoch 78/200\n",
      "14/14 [==============================] - 2s 118ms/step - loss: 0.0052\n",
      "Epoch 79/200\n",
      "14/14 [==============================] - 2s 108ms/step - loss: 0.0048\n",
      "Epoch 80/200\n",
      "14/14 [==============================] - 2s 109ms/step - loss: 0.0055\n",
      "Epoch 81/200\n",
      "14/14 [==============================] - 2s 115ms/step - loss: 0.0051\n",
      "Epoch 82/200\n",
      "14/14 [==============================] - 2s 122ms/step - loss: 0.0054\n",
      "Epoch 83/200\n",
      "14/14 [==============================] - 2s 107ms/step - loss: 0.0052\n",
      "Epoch 84/200\n",
      "14/14 [==============================] - 2s 110ms/step - loss: 0.0047\n",
      "Epoch 85/200\n",
      "14/14 [==============================] - 2s 107ms/step - loss: 0.0043\n",
      "Epoch 86/200\n",
      "14/14 [==============================] - 2s 108ms/step - loss: 0.0059\n",
      "Epoch 87/200\n",
      "14/14 [==============================] - 2s 109ms/step - loss: 0.0054\n",
      "Epoch 88/200\n",
      "14/14 [==============================] - 2s 117ms/step - loss: 0.0052\n",
      "Epoch 89/200\n",
      "14/14 [==============================] - 2s 106ms/step - loss: 0.0048\n",
      "Epoch 90/200\n",
      "14/14 [==============================] - 2s 108ms/step - loss: 0.0056\n",
      "Epoch 91/200\n",
      "14/14 [==============================] - 2s 115ms/step - loss: 0.0056\n",
      "Epoch 92/200\n",
      "14/14 [==============================] - 2s 110ms/step - loss: 0.0046\n",
      "Epoch 93/200\n",
      "14/14 [==============================] - 2s 116ms/step - loss: 0.0046\n",
      "Epoch 94/200\n",
      "14/14 [==============================] - 2s 115ms/step - loss: 0.0046\n",
      "Epoch 95/200\n",
      "14/14 [==============================] - 2s 110ms/step - loss: 0.0042\n",
      "Epoch 96/200\n",
      "14/14 [==============================] - 2s 117ms/step - loss: 0.0041\n",
      "Epoch 97/200\n",
      "14/14 [==============================] - 2s 121ms/step - loss: 0.0049\n",
      "Epoch 98/200\n",
      "14/14 [==============================] - 2s 117ms/step - loss: 0.0048\n",
      "Epoch 99/200\n",
      "14/14 [==============================] - 2s 109ms/step - loss: 0.0048\n",
      "Epoch 100/200\n",
      "14/14 [==============================] - 2s 123ms/step - loss: 0.0044\n",
      "Epoch 101/200\n",
      "14/14 [==============================] - 2s 125ms/step - loss: 0.0049\n",
      "Epoch 102/200\n",
      "14/14 [==============================] - 2s 110ms/step - loss: 0.0047\n",
      "Epoch 103/200\n",
      "14/14 [==============================] - 2s 121ms/step - loss: 0.0051\n",
      "Epoch 104/200\n",
      "14/14 [==============================] - 2s 148ms/step - loss: 0.0045\n",
      "Epoch 105/200\n",
      "14/14 [==============================] - 2s 109ms/step - loss: 0.0044\n",
      "Epoch 106/200\n",
      "14/14 [==============================] - 2s 109ms/step - loss: 0.0044\n",
      "Epoch 107/200\n",
      "14/14 [==============================] - 2s 117ms/step - loss: 0.0044\n",
      "Epoch 108/200\n",
      "14/14 [==============================] - 2s 108ms/step - loss: 0.0049\n",
      "Epoch 109/200\n",
      "14/14 [==============================] - 2s 108ms/step - loss: 0.0044\n",
      "Epoch 110/200\n",
      "14/14 [==============================] - 2s 123ms/step - loss: 0.0040\n",
      "Epoch 111/200\n",
      "14/14 [==============================] - 2s 121ms/step - loss: 0.0041\n",
      "Epoch 112/200\n",
      "14/14 [==============================] - 2s 113ms/step - loss: 0.0040\n",
      "Epoch 113/200\n",
      "14/14 [==============================] - 2s 119ms/step - loss: 0.0044\n",
      "Epoch 114/200\n",
      "14/14 [==============================] - 2s 109ms/step - loss: 0.0045\n",
      "Epoch 115/200\n",
      "14/14 [==============================] - 2s 108ms/step - loss: 0.0041\n",
      "Epoch 116/200\n",
      "14/14 [==============================] - 2s 111ms/step - loss: 0.0044\n",
      "Epoch 117/200\n",
      "14/14 [==============================] - 2s 109ms/step - loss: 0.0047\n",
      "Epoch 118/200\n",
      "14/14 [==============================] - 2s 115ms/step - loss: 0.0042\n",
      "Epoch 119/200\n",
      "14/14 [==============================] - 2s 113ms/step - loss: 0.0042\n",
      "Epoch 120/200\n",
      "14/14 [==============================] - 2s 108ms/step - loss: 0.0044\n",
      "Epoch 121/200\n",
      "14/14 [==============================] - 2s 122ms/step - loss: 0.0045\n",
      "Epoch 122/200\n",
      "14/14 [==============================] - 2s 108ms/step - loss: 0.0045\n",
      "Epoch 123/200\n",
      "14/14 [==============================] - 2s 111ms/step - loss: 0.0043\n",
      "Epoch 124/200\n",
      "14/14 [==============================] - 2s 108ms/step - loss: 0.0039\n",
      "Epoch 125/200\n",
      "14/14 [==============================] - 2s 111ms/step - loss: 0.0040\n",
      "Epoch 126/200\n",
      "14/14 [==============================] - 2s 107ms/step - loss: 0.0038\n",
      "Epoch 127/200\n",
      "14/14 [==============================] - 2s 109ms/step - loss: 0.0046\n",
      "Epoch 128/200\n",
      "14/14 [==============================] - 2s 118ms/step - loss: 0.0050\n",
      "Epoch 129/200\n",
      "14/14 [==============================] - 2s 116ms/step - loss: 0.0040\n",
      "Epoch 130/200\n",
      "14/14 [==============================] - 2s 112ms/step - loss: 0.0040\n",
      "Epoch 131/200\n",
      "14/14 [==============================] - 2s 112ms/step - loss: 0.0040\n",
      "Epoch 132/200\n",
      "14/14 [==============================] - 2s 112ms/step - loss: 0.0048\n",
      "Epoch 133/200\n",
      "14/14 [==============================] - 2s 120ms/step - loss: 0.0051\n",
      "Epoch 134/200\n",
      "14/14 [==============================] - 2s 115ms/step - loss: 0.0041\n",
      "Epoch 135/200\n",
      "14/14 [==============================] - 2s 112ms/step - loss: 0.0043\n",
      "Epoch 136/200\n",
      "14/14 [==============================] - 2s 106ms/step - loss: 0.0042\n",
      "Epoch 137/200\n",
      "14/14 [==============================] - 2s 120ms/step - loss: 0.0038\n",
      "Epoch 138/200\n",
      "14/14 [==============================] - 2s 113ms/step - loss: 0.0038\n",
      "Epoch 139/200\n",
      "14/14 [==============================] - 2s 121ms/step - loss: 0.0041\n",
      "Epoch 140/200\n",
      "14/14 [==============================] - 2s 123ms/step - loss: 0.0039\n",
      "Epoch 141/200\n",
      "14/14 [==============================] - 2s 111ms/step - loss: 0.0039\n",
      "Epoch 142/200\n",
      "14/14 [==============================] - 2s 109ms/step - loss: 0.0039\n",
      "Epoch 143/200\n",
      "14/14 [==============================] - 2s 112ms/step - loss: 0.0037\n",
      "Epoch 144/200\n",
      "14/14 [==============================] - 2s 122ms/step - loss: 0.0037\n",
      "Epoch 145/200\n",
      "14/14 [==============================] - 2s 108ms/step - loss: 0.0038\n",
      "Epoch 146/200\n",
      "14/14 [==============================] - 2s 109ms/step - loss: 0.0039\n",
      "Epoch 147/200\n",
      "14/14 [==============================] - 2s 151ms/step - loss: 0.0036\n",
      "Epoch 148/200\n",
      "14/14 [==============================] - 2s 120ms/step - loss: 0.0039\n",
      "Epoch 149/200\n",
      "14/14 [==============================] - 2s 110ms/step - loss: 0.0039\n",
      "Epoch 150/200\n",
      "14/14 [==============================] - 2s 114ms/step - loss: 0.0039\n",
      "Epoch 151/200\n",
      "14/14 [==============================] - 2s 108ms/step - loss: 0.0034\n",
      "Epoch 152/200\n",
      "14/14 [==============================] - 2s 110ms/step - loss: 0.0040\n",
      "Epoch 153/200\n",
      "14/14 [==============================] - 2s 119ms/step - loss: 0.0035\n",
      "Epoch 154/200\n",
      "14/14 [==============================] - 2s 107ms/step - loss: 0.0035\n",
      "Epoch 155/200\n",
      "14/14 [==============================] - 2s 110ms/step - loss: 0.0036\n",
      "Epoch 156/200\n",
      "14/14 [==============================] - 2s 121ms/step - loss: 0.0036\n",
      "Epoch 157/200\n",
      "14/14 [==============================] - 2s 116ms/step - loss: 0.0035\n",
      "Epoch 158/200\n",
      "14/14 [==============================] - 2s 109ms/step - loss: 0.0035\n",
      "Epoch 159/200\n",
      "14/14 [==============================] - 2s 129ms/step - loss: 0.0036\n",
      "Epoch 160/200\n",
      "14/14 [==============================] - 2s 113ms/step - loss: 0.0039\n",
      "Epoch 161/200\n",
      "14/14 [==============================] - 2s 111ms/step - loss: 0.0033\n",
      "Epoch 162/200\n",
      "14/14 [==============================] - 2s 121ms/step - loss: 0.0041\n",
      "Epoch 163/200\n",
      "14/14 [==============================] - 2s 116ms/step - loss: 0.0039\n",
      "Epoch 164/200\n",
      "14/14 [==============================] - 2s 115ms/step - loss: 0.0036\n",
      "Epoch 165/200\n",
      "14/14 [==============================] - 2s 109ms/step - loss: 0.0034\n",
      "Epoch 166/200\n",
      "14/14 [==============================] - 2s 130ms/step - loss: 0.0037\n",
      "Epoch 167/200\n",
      "14/14 [==============================] - 2s 118ms/step - loss: 0.0036\n",
      "Epoch 168/200\n",
      "14/14 [==============================] - 2s 113ms/step - loss: 0.0037\n",
      "Epoch 169/200\n",
      "14/14 [==============================] - 2s 121ms/step - loss: 0.0038\n",
      "Epoch 170/200\n",
      "14/14 [==============================] - 2s 118ms/step - loss: 0.0034\n",
      "Epoch 171/200\n",
      "14/14 [==============================] - 2s 111ms/step - loss: 0.0036\n",
      "Epoch 172/200\n",
      "14/14 [==============================] - 2s 115ms/step - loss: 0.0038\n",
      "Epoch 173/200\n",
      "14/14 [==============================] - 2s 123ms/step - loss: 0.0035\n",
      "Epoch 174/200\n",
      "14/14 [==============================] - 2s 131ms/step - loss: 0.0036\n",
      "Epoch 175/200\n",
      "14/14 [==============================] - 2s 110ms/step - loss: 0.0034\n",
      "Epoch 176/200\n",
      "14/14 [==============================] - 2s 110ms/step - loss: 0.0035\n",
      "Epoch 177/200\n",
      "14/14 [==============================] - 2s 113ms/step - loss: 0.0036\n",
      "Epoch 178/200\n",
      "14/14 [==============================] - 2s 113ms/step - loss: 0.0034\n",
      "Epoch 179/200\n",
      "14/14 [==============================] - 2s 110ms/step - loss: 0.0036\n",
      "Epoch 180/200\n",
      "14/14 [==============================] - 2s 119ms/step - loss: 0.0038\n",
      "Epoch 181/200\n",
      "14/14 [==============================] - 2s 128ms/step - loss: 0.0035\n",
      "Epoch 182/200\n",
      "14/14 [==============================] - 2s 109ms/step - loss: 0.0036\n",
      "Epoch 183/200\n",
      "14/14 [==============================] - 2s 117ms/step - loss: 0.0037\n",
      "Epoch 184/200\n",
      "14/14 [==============================] - 2s 113ms/step - loss: 0.0035\n",
      "Epoch 185/200\n",
      "14/14 [==============================] - 2s 113ms/step - loss: 0.0037\n",
      "Epoch 186/200\n",
      "14/14 [==============================] - 2s 115ms/step - loss: 0.0040\n",
      "Epoch 187/200\n",
      "14/14 [==============================] - 2s 108ms/step - loss: 0.0040\n",
      "Epoch 188/200\n",
      "14/14 [==============================] - 2s 114ms/step - loss: 0.0034\n",
      "Epoch 189/200\n",
      "14/14 [==============================] - 2s 110ms/step - loss: 0.0037\n",
      "Epoch 190/200\n",
      "14/14 [==============================] - 2s 113ms/step - loss: 0.0037\n",
      "Epoch 191/200\n",
      "14/14 [==============================] - 2s 120ms/step - loss: 0.0034\n",
      "Epoch 192/200\n",
      "14/14 [==============================] - 2s 114ms/step - loss: 0.0035\n",
      "Epoch 193/200\n",
      "14/14 [==============================] - 2s 119ms/step - loss: 0.0031\n",
      "Epoch 194/200\n",
      "14/14 [==============================] - 2s 109ms/step - loss: 0.0031\n",
      "Epoch 195/200\n",
      "14/14 [==============================] - 2s 107ms/step - loss: 0.0032\n",
      "Epoch 196/200\n",
      "14/14 [==============================] - 2s 114ms/step - loss: 0.0035\n",
      "Epoch 197/200\n",
      "14/14 [==============================] - 2s 111ms/step - loss: 0.0035\n",
      "Epoch 198/200\n",
      "14/14 [==============================] - 2s 111ms/step - loss: 0.0031\n",
      "Epoch 199/200\n",
      "14/14 [==============================] - 2s 125ms/step - loss: 0.0030\n",
      "Epoch 200/200\n",
      "14/14 [==============================] - 2s 120ms/step - loss: 0.0032\n"
     ]
    },
    {
     "data": {
      "text/plain": [
       "<keras.callbacks.History at 0x7fe8bdb539d0>"
      ]
     },
     "execution_count": 20,
     "metadata": {},
     "output_type": "execute_result"
    }
   ],
   "source": [
    "regressor.fit(x = X_train, y = y_train, batch_size = 32, epochs = 200)"
   ]
  },
  {
   "cell_type": "markdown",
   "metadata": {},
   "source": [
    "#### 4.3 Model evaluation"
   ]
  },
  {
   "cell_type": "markdown",
   "metadata": {},
   "source": [
    "#### 4.3.1 Read and convert"
   ]
  },
  {
   "cell_type": "code",
   "execution_count": 21,
   "metadata": {},
   "outputs": [],
   "source": [
    "dataset_test = pd.read_csv('UA_stock_test.csv')"
   ]
  },
  {
   "cell_type": "code",
   "execution_count": 22,
   "metadata": {},
   "outputs": [
    {
     "data": {
      "text/html": [
       "<div>\n",
       "<style scoped>\n",
       "    .dataframe tbody tr th:only-of-type {\n",
       "        vertical-align: middle;\n",
       "    }\n",
       "\n",
       "    .dataframe tbody tr th {\n",
       "        vertical-align: top;\n",
       "    }\n",
       "\n",
       "    .dataframe thead th {\n",
       "        text-align: right;\n",
       "    }\n",
       "</style>\n",
       "<table border=\"1\" class=\"dataframe\">\n",
       "  <thead>\n",
       "    <tr style=\"text-align: right;\">\n",
       "      <th></th>\n",
       "      <th>Date</th>\n",
       "      <th>Open</th>\n",
       "      <th>High</th>\n",
       "      <th>Low</th>\n",
       "      <th>Close</th>\n",
       "      <th>Adj Close</th>\n",
       "      <th>Volume</th>\n",
       "    </tr>\n",
       "  </thead>\n",
       "  <tbody>\n",
       "    <tr>\n",
       "      <th>0</th>\n",
       "      <td>2021-01-04</td>\n",
       "      <td>43.680000</td>\n",
       "      <td>43.700001</td>\n",
       "      <td>41.430000</td>\n",
       "      <td>41.630001</td>\n",
       "      <td>41.630001</td>\n",
       "      <td>14710200</td>\n",
       "    </tr>\n",
       "    <tr>\n",
       "      <th>1</th>\n",
       "      <td>2021-01-05</td>\n",
       "      <td>41.580002</td>\n",
       "      <td>43.599998</td>\n",
       "      <td>41.500000</td>\n",
       "      <td>43.400002</td>\n",
       "      <td>43.400002</td>\n",
       "      <td>12294500</td>\n",
       "    </tr>\n",
       "    <tr>\n",
       "      <th>2</th>\n",
       "      <td>2021-01-06</td>\n",
       "      <td>43.599998</td>\n",
       "      <td>44.279999</td>\n",
       "      <td>42.860001</td>\n",
       "      <td>43.540001</td>\n",
       "      <td>43.540001</td>\n",
       "      <td>12318900</td>\n",
       "    </tr>\n",
       "    <tr>\n",
       "      <th>3</th>\n",
       "      <td>2021-01-07</td>\n",
       "      <td>43.799999</td>\n",
       "      <td>44.840000</td>\n",
       "      <td>43.610001</td>\n",
       "      <td>43.619999</td>\n",
       "      <td>43.619999</td>\n",
       "      <td>9592900</td>\n",
       "    </tr>\n",
       "    <tr>\n",
       "      <th>4</th>\n",
       "      <td>2021-01-08</td>\n",
       "      <td>43.580002</td>\n",
       "      <td>44.000000</td>\n",
       "      <td>43.020000</td>\n",
       "      <td>43.290001</td>\n",
       "      <td>43.290001</td>\n",
       "      <td>9215300</td>\n",
       "    </tr>\n",
       "  </tbody>\n",
       "</table>\n",
       "</div>"
      ],
      "text/plain": [
       "         Date       Open       High        Low      Close  Adj Close    Volume\n",
       "0  2021-01-04  43.680000  43.700001  41.430000  41.630001  41.630001  14710200\n",
       "1  2021-01-05  41.580002  43.599998  41.500000  43.400002  43.400002  12294500\n",
       "2  2021-01-06  43.599998  44.279999  42.860001  43.540001  43.540001  12318900\n",
       "3  2021-01-07  43.799999  44.840000  43.610001  43.619999  43.619999   9592900\n",
       "4  2021-01-08  43.580002  44.000000  43.020000  43.290001  43.290001   9215300"
      ]
     },
     "execution_count": 22,
     "metadata": {},
     "output_type": "execute_result"
    }
   ],
   "source": [
    "dataset_test.head()"
   ]
  },
  {
   "cell_type": "code",
   "execution_count": 23,
   "metadata": {},
   "outputs": [
    {
     "data": {
      "text/plain": [
       "(123, 1)"
      ]
     },
     "execution_count": 23,
     "metadata": {},
     "output_type": "execute_result"
    }
   ],
   "source": [
    "#keras only takes numpy array\n",
    "real_stock_price = dataset_test.iloc[:, 1: 2].values\n",
    "real_stock_price.shape"
   ]
  },
  {
   "cell_type": "markdown",
   "metadata": {},
   "source": [
    "#### 4.3.2 Concat and convert"
   ]
  },
  {
   "cell_type": "code",
   "execution_count": 24,
   "metadata": {},
   "outputs": [],
   "source": [
    "#vertical concat use 0, horizontal uses 1\n",
    "dataset_total = pd.concat((dataset_train['Open'], dataset_test['Open']), \n",
    "                          axis = 0)\n",
    "##use .values to make numpy array\n",
    "inputs = dataset_total[len(dataset_total) - len(dataset_test) - 60:].values"
   ]
  },
  {
   "cell_type": "markdown",
   "metadata": {},
   "source": [
    "#### 4.3.3 Reshape and scale"
   ]
  },
  {
   "cell_type": "code",
   "execution_count": 25,
   "metadata": {},
   "outputs": [],
   "source": [
    "#reshape data to only have 1 col\n",
    "inputs = inputs.reshape(-1, 1)\n",
    "\n",
    "#scale input\n",
    "inputs = sc.transform(inputs)"
   ]
  },
  {
   "cell_type": "code",
   "execution_count": 26,
   "metadata": {},
   "outputs": [
    {
     "data": {
      "text/plain": [
       "183"
      ]
     },
     "execution_count": 26,
     "metadata": {},
     "output_type": "execute_result"
    }
   ],
   "source": [
    "len(inputs)"
   ]
  },
  {
   "cell_type": "markdown",
   "metadata": {},
   "source": [
    "#### 4.3.4 Create test data strucutre"
   ]
  },
  {
   "cell_type": "code",
   "execution_count": 27,
   "metadata": {},
   "outputs": [],
   "source": [
    "X_test = []\n",
    "for i in range(60, len(inputs)):\n",
    "    X_test.append(inputs[i-60:i, 0])\n",
    "X_test = np.array(X_test)\n",
    "#add dimension of indicator\n",
    "X_test = np.reshape(X_test, (X_test.shape[0], X_test.shape[1], 1))"
   ]
  },
  {
   "cell_type": "code",
   "execution_count": 49,
   "metadata": {},
   "outputs": [
    {
     "data": {
      "text/plain": [
       "(123, 60, 1)"
      ]
     },
     "execution_count": 49,
     "metadata": {},
     "output_type": "execute_result"
    }
   ],
   "source": [
    "X_test.shape\n",
    "# print(X_test)"
   ]
  },
  {
   "cell_type": "markdown",
   "metadata": {},
   "source": [
    "#### 4.3.5 Model prediction"
   ]
  },
  {
   "cell_type": "code",
   "execution_count": 51,
   "metadata": {},
   "outputs": [
    {
     "name": "stdout",
     "output_type": "stream",
     "text": [
      "(123, 1)\n"
     ]
    }
   ],
   "source": [
    "predicted_stock_price = regressor.predict(X_test)\n",
    "print(predicted_stock_price.shape)"
   ]
  },
  {
   "cell_type": "code",
   "execution_count": 52,
   "metadata": {},
   "outputs": [
    {
     "name": "stdout",
     "output_type": "stream",
     "text": [
      "[[40.806694]\n",
      " [40.871532]\n",
      " [40.977493]\n",
      " [41.114334]\n",
      " [41.30137 ]\n",
      " [41.536945]\n",
      " [41.76989 ]\n",
      " [41.964333]\n",
      " [42.15489 ]\n",
      " [42.410343]\n",
      " [42.775864]\n",
      " [43.188095]\n",
      " [43.5838  ]\n",
      " [43.861668]\n",
      " [43.892   ]\n",
      " [43.626   ]\n",
      " [43.082306]\n",
      " [42.344982]\n",
      " [41.598465]\n",
      " [40.959618]\n",
      " [40.42486 ]\n",
      " [39.98524 ]\n",
      " [39.651848]\n",
      " [39.471634]\n",
      " [39.489365]\n",
      " [39.68835 ]\n",
      " [40.073925]\n",
      " [40.605984]\n",
      " [41.204674]\n",
      " [41.764294]\n",
      " [42.2852  ]\n",
      " [42.788635]\n",
      " [43.257156]\n",
      " [43.673496]\n",
      " [44.180584]\n",
      " [44.890675]\n",
      " [45.836586]\n",
      " [47.139774]\n",
      " [48.557995]\n",
      " [50.0381  ]\n",
      " [51.36963 ]\n",
      " [52.364143]\n",
      " [52.999176]\n",
      " [53.174953]\n",
      " [52.817898]\n",
      " [52.15948 ]\n",
      " [51.397575]\n",
      " [50.72506 ]\n",
      " [50.22931 ]\n",
      " [50.193344]\n",
      " [50.911366]\n",
      " [52.226562]\n",
      " [54.027718]\n",
      " [55.957603]\n",
      " [57.569508]\n",
      " [58.40689 ]\n",
      " [58.2832  ]\n",
      " [57.16765 ]\n",
      " [55.609203]\n",
      " [54.047623]\n",
      " [52.754913]\n",
      " [51.93622 ]\n",
      " [51.617764]\n",
      " [51.83128 ]\n",
      " [52.52666 ]\n",
      " [53.537548]\n",
      " [54.60418 ]\n",
      " [55.51472 ]\n",
      " [56.054203]\n",
      " [55.95156 ]\n",
      " [55.432148]\n",
      " [54.78088 ]\n",
      " [54.109325]\n",
      " [53.44099 ]\n",
      " [52.659554]\n",
      " [51.5436  ]\n",
      " [50.244267]\n",
      " [48.916725]\n",
      " [47.860332]\n",
      " [47.24268 ]\n",
      " [47.066345]\n",
      " [47.2944  ]\n",
      " [47.780903]\n",
      " [48.4568  ]\n",
      " [49.207634]\n",
      " [49.847813]\n",
      " [50.308285]\n",
      " [50.55629 ]\n",
      " [50.72528 ]\n",
      " [50.73914 ]\n",
      " [50.563232]\n",
      " [50.18749 ]\n",
      " [49.771736]\n",
      " [49.534115]\n",
      " [49.697292]\n",
      " [50.178032]\n",
      " [50.859257]\n",
      " [51.564415]\n",
      " [52.192867]\n",
      " [52.79081 ]\n",
      " [53.382553]\n",
      " [53.997734]\n",
      " [54.63245 ]\n",
      " [55.247204]\n",
      " [55.85596 ]\n",
      " [56.38701 ]\n",
      " [56.67429 ]\n",
      " [56.583282]\n",
      " [56.175316]\n",
      " [55.585052]\n",
      " [54.918415]\n",
      " [54.167995]\n",
      " [53.400253]\n",
      " [52.64196 ]\n",
      " [51.903976]\n",
      " [51.267273]\n",
      " [50.67962 ]\n",
      " [50.21322 ]\n",
      " [49.9404  ]\n",
      " [49.86785 ]\n",
      " [49.962933]\n",
      " [50.141666]\n",
      " [50.27962 ]]\n"
     ]
    }
   ],
   "source": [
    "#inverse the scaled value\n",
    "predicted_stock_price = sc.inverse_transform(predicted_stock_price)\n",
    "print(predicted_stock_price)"
   ]
  },
  {
   "cell_type": "markdown",
   "metadata": {},
   "source": [
    "#### 4.3.6 Result visualization"
   ]
  },
  {
   "cell_type": "code",
   "execution_count": 31,
   "metadata": {},
   "outputs": [
    {
     "data": {
      "image/png": "[encoded data removed]",
      "text/plain": [
       "<Figure size 432x288 with 1 Axes>"
      ]
     },
     "metadata": {
      "needs_background": "light"
     },
     "output_type": "display_data"
    },
    {
     "data": {
      "text/plain": [
       "<Figure size 432x288 with 0 Axes>"
      ]
     },
     "metadata": {},
     "output_type": "display_data"
    }
   ],
   "source": [
    "##visualize the prediction and real price\n",
    "plt.plot(real_stock_price, color = 'red', label = 'Real price')\n",
    "plt.plot(predicted_stock_price, color = 'blue', label = 'Predicted price')\n",
    "\n",
    "plt.title('United Airline price prediction')\n",
    "plt.xlabel('Time')\n",
    "plt.ylabel('Price')\n",
    "plt.legend()\n",
    "plt.show()\n",
    "\n",
    "plt.savefig('UA_prediction.png')"
   ]
  },
  {
   "cell_type": "code",
   "execution_count": 43,
   "metadata": {},
   "outputs": [
    {
     "name": "stdout",
     "output_type": "stream",
     "text": [
      "[[40.806694]\n",
      " [40.871532]\n",
      " [40.977493]\n",
      " [41.114334]\n",
      " [41.30137 ]\n",
      " [41.536945]\n",
      " [41.76989 ]\n",
      " [41.964333]\n",
      " [42.15489 ]\n",
      " [42.410343]\n",
      " [42.775864]\n",
      " [43.188095]\n",
      " [43.5838  ]\n",
      " [43.861668]\n",
      " [43.892   ]\n",
      " [43.626   ]\n",
      " [43.082306]\n",
      " [42.344982]\n",
      " [41.598465]\n",
      " [40.959618]\n",
      " [40.42486 ]\n",
      " [39.98524 ]\n",
      " [39.651848]\n",
      " [39.471634]\n",
      " [39.489365]\n",
      " [39.68835 ]\n",
      " [40.073925]\n",
      " [40.605984]\n",
      " [41.204674]\n",
      " [41.764294]\n",
      " [42.2852  ]\n",
      " [42.788635]\n",
      " [43.257156]\n",
      " [43.673496]\n",
      " [44.180584]\n",
      " [44.890675]\n",
      " [45.836586]\n",
      " [47.139774]\n",
      " [48.557995]\n",
      " [50.0381  ]\n",
      " [51.36963 ]\n",
      " [52.364143]\n",
      " [52.999176]\n",
      " [53.174953]\n",
      " [52.817898]\n",
      " [52.15948 ]\n",
      " [51.397575]\n",
      " [50.72506 ]\n",
      " [50.22931 ]\n",
      " [50.193344]\n",
      " [50.911366]\n",
      " [52.226562]\n",
      " [54.027718]\n",
      " [55.957603]\n",
      " [57.569508]\n",
      " [58.40689 ]\n",
      " [58.2832  ]\n",
      " [57.16765 ]\n",
      " [55.609203]\n",
      " [54.047623]\n",
      " [52.754913]\n",
      " [51.93622 ]\n",
      " [51.617764]\n",
      " [51.83128 ]\n",
      " [52.52666 ]\n",
      " [53.537548]\n",
      " [54.60418 ]\n",
      " [55.51472 ]\n",
      " [56.054203]\n",
      " [55.95156 ]\n",
      " [55.432148]\n",
      " [54.78088 ]\n",
      " [54.109325]\n",
      " [53.44099 ]\n",
      " [52.659554]\n",
      " [51.5436  ]\n",
      " [50.244267]\n",
      " [48.916725]\n",
      " [47.860332]\n",
      " [47.24268 ]\n",
      " [47.066345]\n",
      " [47.2944  ]\n",
      " [47.780903]\n",
      " [48.4568  ]\n",
      " [49.207634]\n",
      " [49.847813]\n",
      " [50.308285]\n",
      " [50.55629 ]\n",
      " [50.72528 ]\n",
      " [50.73914 ]\n",
      " [50.563232]\n",
      " [50.18749 ]\n",
      " [49.771736]\n",
      " [49.534115]\n",
      " [49.697292]\n",
      " [50.178032]\n",
      " [50.859257]\n",
      " [51.564415]\n",
      " [52.192867]\n",
      " [52.79081 ]\n",
      " [53.382553]\n",
      " [53.997734]\n",
      " [54.63245 ]\n",
      " [55.247204]\n",
      " [55.85596 ]\n",
      " [56.38701 ]\n",
      " [56.67429 ]\n",
      " [56.583282]\n",
      " [56.175316]\n",
      " [55.585052]\n",
      " [54.918415]\n",
      " [54.167995]\n",
      " [53.400253]\n",
      " [52.64196 ]\n",
      " [51.903976]\n",
      " [51.267273]\n",
      " [50.67962 ]\n",
      " [50.21322 ]\n",
      " [49.9404  ]\n",
      " [49.86785 ]\n",
      " [49.962933]\n",
      " [50.141666]\n",
      " [50.27962 ]]\n"
     ]
    }
   ],
   "source": [
    "from sklearn.metrics import confusion_matrix\n",
    "import seaborn as sn\n",
    "\n",
    "cutoff = 0.7                              # decide on a cutoff limit\n",
    "print(predicted_stock_price)\n",
    "# y_pred_classes = np.where(predicted_stock_price > 0.5, 1, 0)    # initialise a matrix full with zeros\n",
    "# print(y_pred_classes)\n",
    "# y_pred_classes[predicted_stock_price > cutoff] = 1       # add a 1 if the cutoff was breached\n",
    "\n",
    "# y_test_classes = np.where(real_stock_price > 0.5, 1, 0)\n",
    "# y_test_classes[real_stock_price > cutoff] = 1\n",
    "\n",
    "# cf_matrix = confusion_matrix(y_test_classes, y_pred_classes)\n",
    "\n",
    "# print(cf_matrix)\n",
    "# plt.figure(figsize = (10,7))\n",
    "# sn.heatmap(cf_matrix, annot=True)"
   ]
  },
  {
   "cell_type": "code",
   "execution_count": null,
   "metadata": {},
   "outputs": [],
   "source": []
  }
 ],
 "metadata": {
  "kernelspec": {
   "display_name": "Python 3",
   "language": "python",
   "name": "python3"
  },
  "language_info": {
   "codemirror_mode": {
    "name": "ipython",
    "version": 3
   },
   "file_extension": ".py",
   "mimetype": "text/x-python",
   "name": "python",
   "nbconvert_exporter": "python",
   "pygments_lexer": "ipython3",
   "version": "3.8.8"
  }
 },
 "nbformat": 4,
 "nbformat_minor": 4
}
