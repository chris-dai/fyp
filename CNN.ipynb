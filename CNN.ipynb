{
 "cells": [
  {
   "cell_type": "markdown",
   "metadata": {},
   "source": [
    "### 1. Problem statement\n",
    " - We are given United Airline stock price from 01/2012 to 12/2017. \n",
    " - The task is to predict the trend of the stock price for 01-06 2018. \n",
    "\n",
    " - Test set -> UA stock from 2019-01-01 to 2020-12-31"
   ]
  },
  {
   "cell_type": "markdown",
   "metadata": {},
   "source": [
    "### 2. Import library"
   ]
  },
  {
   "cell_type": "code",
   "execution_count": 491,
   "metadata": {},
   "outputs": [],
   "source": [
    "import numpy as np\n",
    "import matplotlib.pyplot as plt\n",
    "import pandas as pd\n",
    "import yfinance as yf\n",
    "from sklearn.preprocessing import MinMaxScaler\n",
    "from sklearn.metrics import mean_squared_error\n",
    "from sklearn.metrics import mean_absolute_error\n",
    "from sklearn.metrics import r2_score\n",
    "from keras.models import Sequential\n",
    "from keras.layers import Conv1D,Flatten,MaxPooling1D,Bidirectional,LSTM,Dropout,TimeDistributed,MaxPool2D\n",
    "from keras.layers import Dense,GlobalAveragePooling2D, Input"
   ]
  },
  {
   "cell_type": "markdown",
   "metadata": {},
   "source": [
    "### 3. Data processing"
   ]
  },
  {
   "cell_type": "markdown",
   "metadata": {},
   "source": [
    "#### 3.0 import the data"
   ]
  },
  {
   "cell_type": "code",
   "execution_count": 492,
   "metadata": {},
   "outputs": [],
   "source": [
    "df = pd.read_csv('DAL.csv')\n",
    "length = df.shape[0]\n",
    "# dataset_train = df[int(length*0.7):int(length*0.9)].copy()\n",
    "dataset_train = df[ :int(length*0.9)].copy()\n",
    "# dataset_train = pd.read_csv('American_Airlines.csv')\n",
    "# dataset_train = pd.read_csv('Delta_Air_Lines.csv')"
   ]
  },
  {
   "cell_type": "code",
   "execution_count": 493,
   "metadata": {},
   "outputs": [
    {
     "data": {
      "text/html": [
       "<div>\n",
       "<style scoped>\n",
       "    .dataframe tbody tr th:only-of-type {\n",
       "        vertical-align: middle;\n",
       "    }\n",
       "\n",
       "    .dataframe tbody tr th {\n",
       "        vertical-align: top;\n",
       "    }\n",
       "\n",
       "    .dataframe thead th {\n",
       "        text-align: right;\n",
       "    }\n",
       "</style>\n",
       "<table border=\"1\" class=\"dataframe\">\n",
       "  <thead>\n",
       "    <tr style=\"text-align: right;\">\n",
       "      <th></th>\n",
       "      <th>Date</th>\n",
       "      <th>Open</th>\n",
       "      <th>High</th>\n",
       "      <th>Low</th>\n",
       "      <th>Close</th>\n",
       "      <th>Adj Close</th>\n",
       "      <th>Volume</th>\n",
       "    </tr>\n",
       "  </thead>\n",
       "  <tbody>\n",
       "    <tr>\n",
       "      <th>0</th>\n",
       "      <td>2010-01-04</td>\n",
       "      <td>11.22</td>\n",
       "      <td>11.43</td>\n",
       "      <td>10.95</td>\n",
       "      <td>11.22</td>\n",
       "      <td>9.966127</td>\n",
       "      <td>14482500</td>\n",
       "    </tr>\n",
       "    <tr>\n",
       "      <th>1</th>\n",
       "      <td>2010-01-05</td>\n",
       "      <td>11.32</td>\n",
       "      <td>12.34</td>\n",
       "      <td>11.29</td>\n",
       "      <td>12.10</td>\n",
       "      <td>10.747787</td>\n",
       "      <td>25066000</td>\n",
       "    </tr>\n",
       "    <tr>\n",
       "      <th>2</th>\n",
       "      <td>2010-01-06</td>\n",
       "      <td>11.99</td>\n",
       "      <td>12.24</td>\n",
       "      <td>11.85</td>\n",
       "      <td>12.11</td>\n",
       "      <td>10.756668</td>\n",
       "      <td>14980700</td>\n",
       "    </tr>\n",
       "    <tr>\n",
       "      <th>3</th>\n",
       "      <td>2010-01-07</td>\n",
       "      <td>12.06</td>\n",
       "      <td>12.86</td>\n",
       "      <td>12.05</td>\n",
       "      <td>12.69</td>\n",
       "      <td>11.271852</td>\n",
       "      <td>19814500</td>\n",
       "    </tr>\n",
       "    <tr>\n",
       "      <th>4</th>\n",
       "      <td>2010-01-08</td>\n",
       "      <td>12.62</td>\n",
       "      <td>12.85</td>\n",
       "      <td>12.05</td>\n",
       "      <td>12.47</td>\n",
       "      <td>11.076437</td>\n",
       "      <td>24589200</td>\n",
       "    </tr>\n",
       "  </tbody>\n",
       "</table>\n",
       "</div>"
      ],
      "text/plain": [
       "         Date   Open   High    Low  Close  Adj Close    Volume\n",
       "0  2010-01-04  11.22  11.43  10.95  11.22   9.966127  14482500\n",
       "1  2010-01-05  11.32  12.34  11.29  12.10  10.747787  25066000\n",
       "2  2010-01-06  11.99  12.24  11.85  12.11  10.756668  14980700\n",
       "3  2010-01-07  12.06  12.86  12.05  12.69  11.271852  19814500\n",
       "4  2010-01-08  12.62  12.85  12.05  12.47  11.076437  24589200"
      ]
     },
     "execution_count": 493,
     "metadata": {},
     "output_type": "execute_result"
    }
   ],
   "source": [
    "dataset_train.head()"
   ]
  },
  {
   "cell_type": "code",
   "execution_count": 494,
   "metadata": {},
   "outputs": [
    {
     "name": "stdout",
     "output_type": "stream",
     "text": [
      "[[11.22000027]\n",
      " [11.31999969]\n",
      " [11.98999977]\n",
      " ...\n",
      " [31.37999916]\n",
      " [31.39999962]\n",
      " [31.70000076]]\n"
     ]
    }
   ],
   "source": [
    "#keras only takes numpy array\n",
    "training_set = dataset_train.iloc[:, 1: 2].values\n",
    "print(training_set)"
   ]
  },
  {
   "cell_type": "code",
   "execution_count": 495,
   "metadata": {},
   "outputs": [
    {
     "data": {
      "text/plain": [
       "(2718, 1)"
      ]
     },
     "execution_count": 495,
     "metadata": {},
     "output_type": "execute_result"
    }
   ],
   "source": [
    "training_set.shape"
   ]
  },
  {
   "cell_type": "markdown",
   "metadata": {},
   "source": [
    "#### 3.1 Feature scaling"
   ]
  },
  {
   "cell_type": "code",
   "execution_count": 496,
   "metadata": {},
   "outputs": [
    {
     "name": "stdout",
     "output_type": "stream",
     "text": [
      "2718\n"
     ]
    }
   ],
   "source": [
    "sc = MinMaxScaler(feature_range = (0, 1))\n",
    "#fit: get min/max of train data\n",
    "training_set_scaled = sc.fit_transform(training_set)\n",
    "print(len(training_set_scaled))"
   ]
  },
  {
   "cell_type": "markdown",
   "metadata": {},
   "source": [
    "#### 3.2 Data structure creation"
   ]
  },
  {
   "cell_type": "markdown",
   "metadata": {},
   "source": [
    "- taking the reference of past 60 days of data to predict the future stock price.  \n",
    "- It is observed that taking 60 days of past data gives us best results.  \n",
    "- In this data set 60 days of data means 3 months of data.  \n",
    "- Every month as 20 days of Stock price.   \n",
    "- X train will have data of 60 days prior to our date and y train will have data of one day after our date"
   ]
  },
  {
   "cell_type": "code",
   "execution_count": 497,
   "metadata": {},
   "outputs": [],
   "source": [
    "## 60 timesteps and 1 output\n",
    "X_train = []\n",
    "y_train = []\n",
    "for i in range(60, len(training_set_scaled)):\n",
    "    X_train.append(training_set_scaled[i-60: i, 0])\n",
    "    y_train.append(training_set_scaled[i, 0])\n",
    "\n",
    "X_train, y_train = np.array(X_train), np.array(y_train)"
   ]
  },
  {
   "cell_type": "code",
   "execution_count": 498,
   "metadata": {},
   "outputs": [
    {
     "data": {
      "text/plain": [
       "(2658, 60)"
      ]
     },
     "execution_count": 498,
     "metadata": {},
     "output_type": "execute_result"
    }
   ],
   "source": [
    "X_train.shape"
   ]
  },
  {
   "cell_type": "code",
   "execution_count": 499,
   "metadata": {},
   "outputs": [],
   "source": [
    "# # Class outcome\n",
    "# cutoff = 0.5\n",
    "# X_outcome = np.array([0 if x < cutoff else 1 for x in np.cumsum(X_train[443])])\n",
    "# print(X_outcome)"
   ]
  },
  {
   "cell_type": "code",
   "execution_count": 500,
   "metadata": {},
   "outputs": [
    {
     "data": {
      "text/plain": [
       "(2658,)"
      ]
     },
     "execution_count": 500,
     "metadata": {},
     "output_type": "execute_result"
    }
   ],
   "source": [
    "y_train.shape"
   ]
  },
  {
   "cell_type": "markdown",
   "metadata": {},
   "source": [
    "#### 3.3 Data reshaping"
   ]
  },
  {
   "cell_type": "code",
   "execution_count": 501,
   "metadata": {},
   "outputs": [
    {
     "data": {
      "text/plain": [
       "(2658, 60, 1)"
      ]
     },
     "execution_count": 501,
     "metadata": {},
     "output_type": "execute_result"
    }
   ],
   "source": [
    "X_train = np.reshape(X_train, newshape = \n",
    "                     (X_train.shape[0], X_train.shape[1], 1))\n",
    "X_train.shape"
   ]
  },
  {
   "cell_type": "markdown",
   "metadata": {},
   "source": [
    "1. Number of stock prices - 1449  \n",
    "2. Number of time steps - 60  \n",
    "3. Number of Indicator - 1  "
   ]
  },
  {
   "cell_type": "markdown",
   "metadata": {},
   "source": [
    "### 4. Create & Fit Model"
   ]
  },
  {
   "cell_type": "markdown",
   "metadata": {},
   "source": [
    "#### 4.1 Create model"
   ]
  },
  {
   "cell_type": "markdown",
   "metadata": {},
   "source": [
    "## CNN LSTM"
   ]
  },
  {
   "cell_type": "code",
   "execution_count": 502,
   "metadata": {},
   "outputs": [],
   "source": [
    "# model = Sequential()\n",
    "#add model layers\n",
    "# inputs = Input(shape=(X_train.shape[1]))\n",
    "# model.add(TimeDistributed(Conv1D(128, kernel_size=1, activation='relu', batch_input_shape=(None, X_train.shape[1]))))\n",
    "# model.add(TimeDistributed(MaxPooling1D(2)))\n",
    "# model.add(TimeDistributed(Conv1D(256, kernel_size=1, activation='relu')))\n",
    "# model.add(TimeDistributed(MaxPooling1D(2)))\n",
    "# model.add(TimeDistributed(Conv1D(512, kernel_size=1, activation='relu')))\n",
    "# model.add(TimeDistributed(MaxPooling1D(2)))\n",
    "# model.add(TimeDistributed(Flatten()))\n",
    "# model.add(LSTM(200,return_sequences=True))\n",
    "# model.add(Dropout(0.25))\n",
    "# model.add(Bidirectional(LSTM(200,return_sequences=False)))\n",
    "# model.add(Dropout(0.5))\n",
    "# model.add(Dense(1, activation='linear'))\n",
    "# model.compile(optimizer='adam', loss='mse')\n",
    "\n",
    "# model.add((Conv1D(128, kernel_size=3, activation='relu', input_shape=(X_train.shape[1], 1))))\n",
    "# model.add((MaxPooling1D(2)))\n",
    "# # model.add((Flatten()))\n",
    "# # model.add(Dropout(0.5))\n",
    "# model.add(LSTM(200,return_sequences=False))\n",
    "# model.add(Dropout(0.25))\n",
    "# model.add(Dense(128, activation='relu'))\n",
    "# model.add(Dense(64, activation='relu'))\n",
    "# model.add(Dense(1, activation='relu'))\n",
    "# model.compile(optimizer='adam', loss='mse')\n",
    "\n",
    "\n",
    "\n",
    "# model.fit(x = X_train, y = y_train, batch_size = 32, epochs = 100)\n",
    "# print(model.summary())"
   ]
  },
  {
   "cell_type": "markdown",
   "metadata": {},
   "source": [
    "## CNN BiLSTM"
   ]
  },
  {
   "cell_type": "code",
   "execution_count": 517,
   "metadata": {},
   "outputs": [
    {
     "name": "stdout",
     "output_type": "stream",
     "text": [
      "Epoch 1/100\n",
      "84/84 [==============================] - 13s 99ms/step - loss: 0.0138\n",
      "Epoch 2/100\n",
      "84/84 [==============================] - 8s 89ms/step - loss: 0.0031\n",
      "Epoch 3/100\n",
      "84/84 [==============================] - 7s 86ms/step - loss: 0.0047\n",
      "Epoch 4/100\n",
      "84/84 [==============================] - 7s 85ms/step - loss: 0.0029\n",
      "Epoch 5/100\n",
      "84/84 [==============================] - 8s 93ms/step - loss: 0.0023\n",
      "Epoch 6/100\n",
      "84/84 [==============================] - 7s 88ms/step - loss: 0.0021\n",
      "Epoch 7/100\n",
      "84/84 [==============================] - 7s 86ms/step - loss: 0.0019\n",
      "Epoch 8/100\n",
      "84/84 [==============================] - 7s 87ms/step - loss: 0.0019\n",
      "Epoch 9/100\n",
      "84/84 [==============================] - 8s 91ms/step - loss: 0.0018\n",
      "Epoch 10/100\n",
      "84/84 [==============================] - 12s 146ms/step - loss: 0.0016\n",
      "Epoch 11/100\n",
      "84/84 [==============================] - 10s 112ms/step - loss: 0.0016\n",
      "Epoch 12/100\n",
      "84/84 [==============================] - 7s 78ms/step - loss: 0.0014\n",
      "Epoch 13/100\n",
      "84/84 [==============================] - 8s 91ms/step - loss: 0.0014\n",
      "Epoch 14/100\n",
      "84/84 [==============================] - 7s 78ms/step - loss: 0.0014\n",
      "Epoch 15/100\n",
      "84/84 [==============================] - 6s 77ms/step - loss: 0.0018\n",
      "Epoch 16/100\n",
      "84/84 [==============================] - 6s 75ms/step - loss: 0.0012\n",
      "Epoch 17/100\n",
      "84/84 [==============================] - 7s 80ms/step - loss: 0.0012\n",
      "Epoch 18/100\n",
      "84/84 [==============================] - 6s 77ms/step - loss: 0.0011\n",
      "Epoch 19/100\n",
      "84/84 [==============================] - 6s 73ms/step - loss: 0.0014\n",
      "Epoch 20/100\n",
      "84/84 [==============================] - 7s 79ms/step - loss: 0.0012\n",
      "Epoch 21/100\n",
      "84/84 [==============================] - 8s 91ms/step - loss: 0.0014\n",
      "Epoch 22/100\n",
      "84/84 [==============================] - 7s 79ms/step - loss: 0.0011\n",
      "Epoch 23/100\n",
      "84/84 [==============================] - 17s 206ms/step - loss: 0.0010\n",
      "Epoch 24/100\n",
      "84/84 [==============================] - 11s 132ms/step - loss: 9.0908e-04\n",
      "Epoch 25/100\n",
      "84/84 [==============================] - 9s 104ms/step - loss: 0.0010\n",
      "Epoch 26/100\n",
      "84/84 [==============================] - 9s 109ms/step - loss: 9.3496e-04\n",
      "Epoch 27/100\n",
      "84/84 [==============================] - 11s 135ms/step - loss: 9.0441e-04\n",
      "Epoch 28/100\n",
      "84/84 [==============================] - 9s 107ms/step - loss: 0.0012\n",
      "Epoch 29/100\n",
      "84/84 [==============================] - 10s 120ms/step - loss: 8.6889e-04\n",
      "Epoch 30/100\n",
      "84/84 [==============================] - 9s 111ms/step - loss: 8.9019e-04\n",
      "Epoch 31/100\n",
      "84/84 [==============================] - 9s 108ms/step - loss: 0.0011\n",
      "Epoch 32/100\n",
      "84/84 [==============================] - 11s 131ms/step - loss: 0.0014\n",
      "Epoch 33/100\n",
      "84/84 [==============================] - 10s 117ms/step - loss: 8.7347e-04\n",
      "Epoch 34/100\n",
      "84/84 [==============================] - 9s 106ms/step - loss: 8.2672e-04\n",
      "Epoch 35/100\n",
      "84/84 [==============================] - 10s 120ms/step - loss: 7.7668e-04\n",
      "Epoch 36/100\n",
      "84/84 [==============================] - 9s 104ms/step - loss: 8.3109e-04\n",
      "Epoch 37/100\n",
      "84/84 [==============================] - 9s 102ms/step - loss: 8.9667e-04\n",
      "Epoch 38/100\n",
      "84/84 [==============================] - 9s 105ms/step - loss: 7.6027e-04\n",
      "Epoch 39/100\n",
      "84/84 [==============================] - 9s 105ms/step - loss: 7.8370e-04\n",
      "Epoch 40/100\n",
      "84/84 [==============================] - 8s 97ms/step - loss: 0.0010\n",
      "Epoch 41/100\n",
      "84/84 [==============================] - 9s 107ms/step - loss: 8.0944e-04\n",
      "Epoch 42/100\n",
      "84/84 [==============================] - 9s 109ms/step - loss: 7.9863e-04\n",
      "Epoch 43/100\n",
      "84/84 [==============================] - 11s 135ms/step - loss: 8.5746e-04\n",
      "Epoch 44/100\n",
      "84/84 [==============================] - 10s 119ms/step - loss: 0.0010\n",
      "Epoch 45/100\n",
      "84/84 [==============================] - 9s 112ms/step - loss: 7.6225e-04\n",
      "Epoch 46/100\n",
      "84/84 [==============================] - 9s 101ms/step - loss: 7.7838e-04\n",
      "Epoch 47/100\n",
      "84/84 [==============================] - 7s 89ms/step - loss: 7.6446e-04\n",
      "Epoch 48/100\n",
      "84/84 [==============================] - 8s 101ms/step - loss: 7.9079e-04\n",
      "Epoch 49/100\n",
      "84/84 [==============================] - 8s 92ms/step - loss: 7.2246e-04\n",
      "Epoch 50/100\n",
      "84/84 [==============================] - 8s 90ms/step - loss: 8.3562e-04\n",
      "Epoch 51/100\n",
      "84/84 [==============================] - 7s 87ms/step - loss: 8.6454e-04\n",
      "Epoch 52/100\n",
      "84/84 [==============================] - 9s 102ms/step - loss: 6.7717e-04\n",
      "Epoch 53/100\n",
      "84/84 [==============================] - 7s 81ms/step - loss: 8.8240e-04\n",
      "Epoch 54/100\n",
      "84/84 [==============================] - 7s 77ms/step - loss: 7.2398e-04\n",
      "Epoch 55/100\n",
      "84/84 [==============================] - 7s 84ms/step - loss: 7.0296e-04\n",
      "Epoch 56/100\n",
      "84/84 [==============================] - 8s 94ms/step - loss: 7.0098e-04\n",
      "Epoch 57/100\n",
      "84/84 [==============================] - 10s 119ms/step - loss: 9.4458e-04\n",
      "Epoch 58/100\n",
      "84/84 [==============================] - 15s 179ms/step - loss: 7.6122e-04\n",
      "Epoch 59/100\n",
      "84/84 [==============================] - 9s 109ms/step - loss: 7.7012e-04\n",
      "Epoch 60/100\n",
      "84/84 [==============================] - 9s 104ms/step - loss: 7.3069e-04\n",
      "Epoch 61/100\n",
      "84/84 [==============================] - 7s 88ms/step - loss: 7.7575e-04\n",
      "Epoch 62/100\n",
      "84/84 [==============================] - 11s 137ms/step - loss: 6.5835e-04\n",
      "Epoch 63/100\n",
      "84/84 [==============================] - 11s 129ms/step - loss: 7.5816e-04\n",
      "Epoch 64/100\n",
      "84/84 [==============================] - 9s 105ms/step - loss: 6.8557e-04\n",
      "Epoch 65/100\n",
      "84/84 [==============================] - 8s 95ms/step - loss: 6.8090e-04\n",
      "Epoch 66/100\n",
      "84/84 [==============================] - 12s 139ms/step - loss: 7.0296e-04\n",
      "Epoch 67/100\n",
      "84/84 [==============================] - 11s 136ms/step - loss: 7.1899e-04\n",
      "Epoch 68/100\n",
      "84/84 [==============================] - 9s 106ms/step - loss: 7.3185e-04\n",
      "Epoch 69/100\n",
      "84/84 [==============================] - 8s 96ms/step - loss: 6.6704e-04\n",
      "Epoch 70/100\n",
      "84/84 [==============================] - 10s 118ms/step - loss: 6.9824e-04\n",
      "Epoch 71/100\n",
      "84/84 [==============================] - 10s 113ms/step - loss: 7.3735e-04\n",
      "Epoch 72/100\n",
      "84/84 [==============================] - 8s 100ms/step - loss: 7.2979e-04\n",
      "Epoch 73/100\n",
      "84/84 [==============================] - 8s 90ms/step - loss: 7.7576e-04\n",
      "Epoch 74/100\n",
      "84/84 [==============================] - 10s 118ms/step - loss: 6.5831e-04\n",
      "Epoch 75/100\n",
      "84/84 [==============================] - 9s 106ms/step - loss: 7.2268e-04\n",
      "Epoch 76/100\n",
      "84/84 [==============================] - 7s 88ms/step - loss: 6.9896e-04\n",
      "Epoch 77/100\n",
      "84/84 [==============================] - 7s 83ms/step - loss: 6.4229e-04\n",
      "Epoch 78/100\n",
      "84/84 [==============================] - 12s 138ms/step - loss: 8.0328e-04\n",
      "Epoch 79/100\n",
      "84/84 [==============================] - 11s 131ms/step - loss: 6.7548e-04\n",
      "Epoch 80/100\n",
      "84/84 [==============================] - 9s 112ms/step - loss: 6.7304e-04\n",
      "Epoch 81/100\n",
      "84/84 [==============================] - 8s 97ms/step - loss: 9.2026e-04\n",
      "Epoch 82/100\n",
      "84/84 [==============================] - 8s 92ms/step - loss: 6.5678e-04\n",
      "Epoch 83/100\n",
      "84/84 [==============================] - 9s 107ms/step - loss: 6.4747e-04\n",
      "Epoch 84/100\n",
      "84/84 [==============================] - 6s 72ms/step - loss: 6.1311e-04\n",
      "Epoch 85/100\n",
      "84/84 [==============================] - 7s 87ms/step - loss: 7.3988e-04\n",
      "Epoch 86/100\n",
      "84/84 [==============================] - 9s 104ms/step - loss: 6.6468e-04\n",
      "Epoch 87/100\n",
      "84/84 [==============================] - 9s 102ms/step - loss: 7.0892e-04\n",
      "Epoch 88/100\n",
      "84/84 [==============================] - 7s 87ms/step - loss: 6.6229e-04\n",
      "Epoch 89/100\n",
      "84/84 [==============================] - 8s 92ms/step - loss: 7.8302e-04\n",
      "Epoch 90/100\n",
      "84/84 [==============================] - 8s 101ms/step - loss: 6.6628e-04\n",
      "Epoch 91/100\n",
      "84/84 [==============================] - 7s 85ms/step - loss: 7.5022e-04\n",
      "Epoch 92/100\n",
      "84/84 [==============================] - 8s 96ms/step - loss: 6.1838e-04\n",
      "Epoch 93/100\n",
      "84/84 [==============================] - 7s 87ms/step - loss: 6.4743e-04\n",
      "Epoch 94/100\n",
      "84/84 [==============================] - 8s 91ms/step - loss: 6.8477e-04\n",
      "Epoch 95/100\n",
      "84/84 [==============================] - 7s 88ms/step - loss: 6.3586e-04\n",
      "Epoch 96/100\n",
      "84/84 [==============================] - 8s 99ms/step - loss: 7.1197e-04\n",
      "Epoch 97/100\n",
      "84/84 [==============================] - 10s 116ms/step - loss: 6.2682e-04\n",
      "Epoch 98/100\n",
      "84/84 [==============================] - 10s 115ms/step - loss: 6.4870e-04\n",
      "Epoch 99/100\n",
      "84/84 [==============================] - 9s 112ms/step - loss: 7.5006e-04\n",
      "Epoch 100/100\n",
      "84/84 [==============================] - 8s 95ms/step - loss: 6.6392e-04\n",
      "Model: \"sequential_41\"\n",
      "_________________________________________________________________\n",
      " Layer (type)                Output Shape              Param #   \n",
      "=================================================================\n",
      " conv1d_45 (Conv1D)          (None, 58, 128)           512       \n",
      "                                                                 \n",
      " max_pooling1d_45 (MaxPoolin  (None, 29, 128)          0         \n",
      " g1D)                                                            \n",
      "                                                                 \n",
      " dropout_45 (Dropout)        (None, 29, 128)           0         \n",
      "                                                                 \n",
      " bidirectional_18 (Bidirecti  (None, 400)              526400    \n",
      " onal)                                                           \n",
      "                                                                 \n",
      " dropout_46 (Dropout)        (None, 400)               0         \n",
      "                                                                 \n",
      " dense_69 (Dense)            (None, 128)               51328     \n",
      "                                                                 \n",
      " dense_70 (Dense)            (None, 64)                8256      \n",
      "                                                                 \n",
      " dense_71 (Dense)            (None, 1)                 65        \n",
      "                                                                 \n",
      "=================================================================\n",
      "Total params: 586,561\n",
      "Trainable params: 586,561\n",
      "Non-trainable params: 0\n",
      "_________________________________________________________________\n",
      "None\n"
     ]
    }
   ],
   "source": [
    "model = Sequential()\n",
    "#add model layers\n",
    "\n",
    "model.add((Conv1D(128, kernel_size=3, activation='relu', input_shape=(X_train.shape[1], 1))))\n",
    "model.add((MaxPooling1D(2)))\n",
    "# model.add((Flatten()))\n",
    "model.add(Dropout(0.5))\n",
    "model.add(Bidirectional(LSTM(200,return_sequences=False)))\n",
    "model.add(Dropout(0.25))\n",
    "model.add(Dense(128, activation='relu'))\n",
    "model.add(Dense(64, activation='relu'))\n",
    "model.add(Dense(1, activation='relu'))\n",
    "\n",
    "\n",
    "model.compile(optimizer='adam', loss='mse')\n",
    "\n",
    "\n",
    "\n",
    "model.fit(x = X_train, y = y_train, batch_size = 32, epochs = 100)\n",
    "print(model.summary())"
   ]
  },
  {
   "cell_type": "code",
   "execution_count": 518,
   "metadata": {},
   "outputs": [
    {
     "name": "stderr",
     "output_type": "stream",
     "text": [
      "WARNING:absl:Found untraced functions such as lstm_cell_64_layer_call_fn, lstm_cell_64_layer_call_and_return_conditional_losses, lstm_cell_65_layer_call_fn, lstm_cell_65_layer_call_and_return_conditional_losses while saving (showing 4 of 4). These functions will not be directly callable after loading.\n"
     ]
    },
    {
     "name": "stdout",
     "output_type": "stream",
     "text": [
      "INFO:tensorflow:Assets written to: DAL-CNN-BiLSTM/assets\n"
     ]
    },
    {
     "name": "stderr",
     "output_type": "stream",
     "text": [
      "INFO:tensorflow:Assets written to: DAL-CNN-BiLSTM/assets\n",
      "WARNING:absl:<keras.layers.recurrent.LSTMCell object at 0x7ff4acf9cca0> has the same name 'LSTMCell' as a built-in Keras object. Consider renaming <class 'keras.layers.recurrent.LSTMCell'> to avoid naming conflicts when loading with `tf.keras.models.load_model`. If renaming is not possible, pass the object in the `custom_objects` parameter of the load function.\n",
      "WARNING:absl:<keras.layers.recurrent.LSTMCell object at 0x7ff49e430ee0> has the same name 'LSTMCell' as a built-in Keras object. Consider renaming <class 'keras.layers.recurrent.LSTMCell'> to avoid naming conflicts when loading with `tf.keras.models.load_model`. If renaming is not possible, pass the object in the `custom_objects` parameter of the load function.\n"
     ]
    }
   ],
   "source": [
    "model.save(\"DAL-CNN-BiLSTM\")"
   ]
  },
  {
   "cell_type": "markdown",
   "metadata": {},
   "source": [
    "#### 4.3 Model evaluation"
   ]
  },
  {
   "cell_type": "code",
   "execution_count": 519,
   "metadata": {},
   "outputs": [
    {
     "name": "stdout",
     "output_type": "stream",
     "text": [
      "Model: \"sequential_41\"\n",
      "_________________________________________________________________\n",
      " Layer (type)                Output Shape              Param #   \n",
      "=================================================================\n",
      " conv1d_45 (Conv1D)          (None, 58, 128)           512       \n",
      "                                                                 \n",
      " max_pooling1d_45 (MaxPoolin  (None, 29, 128)          0         \n",
      " g1D)                                                            \n",
      "                                                                 \n",
      " dropout_45 (Dropout)        (None, 29, 128)           0         \n",
      "                                                                 \n",
      " bidirectional_18 (Bidirecti  (None, 400)              526400    \n",
      " onal)                                                           \n",
      "                                                                 \n",
      " dropout_46 (Dropout)        (None, 400)               0         \n",
      "                                                                 \n",
      " dense_69 (Dense)            (None, 128)               51328     \n",
      "                                                                 \n",
      " dense_70 (Dense)            (None, 64)                8256      \n",
      "                                                                 \n",
      " dense_71 (Dense)            (None, 1)                 65        \n",
      "                                                                 \n",
      "=================================================================\n",
      "Total params: 586,561\n",
      "Trainable params: 586,561\n",
      "Non-trainable params: 0\n",
      "_________________________________________________________________\n"
     ]
    }
   ],
   "source": [
    "model.summary()"
   ]
  },
  {
   "cell_type": "markdown",
   "metadata": {},
   "source": [
    "#### 4.3.1 Read and convert"
   ]
  },
  {
   "cell_type": "code",
   "execution_count": 520,
   "metadata": {},
   "outputs": [
    {
     "name": "stdout",
     "output_type": "stream",
     "text": [
      "<class 'pandas.core.frame.DataFrame'>\n",
      "RangeIndex: 302 entries, 2718 to 3019\n",
      "Data columns (total 7 columns):\n",
      " #   Column     Non-Null Count  Dtype  \n",
      "---  ------     --------------  -----  \n",
      " 0   Date       302 non-null    object \n",
      " 1   Open       302 non-null    float64\n",
      " 2   High       302 non-null    float64\n",
      " 3   Low        302 non-null    float64\n",
      " 4   Close      302 non-null    float64\n",
      " 5   Adj Close  302 non-null    float64\n",
      " 6   Volume     302 non-null    int64  \n",
      "dtypes: float64(5), int64(1), object(1)\n",
      "memory usage: 16.6+ KB\n"
     ]
    }
   ],
   "source": [
    "# dataset_test = pd.read_csv('UAL_test.csv')\n",
    "# dataset_test = df[int(length*0.9):int(length*0.95)].copy()\n",
    "dataset_test = df[int(length*0.9):int(length)].copy()\n",
    "dataset_test.info()"
   ]
  },
  {
   "cell_type": "code",
   "execution_count": 521,
   "metadata": {},
   "outputs": [
    {
     "data": {
      "text/html": [
       "<div>\n",
       "<style scoped>\n",
       "    .dataframe tbody tr th:only-of-type {\n",
       "        vertical-align: middle;\n",
       "    }\n",
       "\n",
       "    .dataframe tbody tr th {\n",
       "        vertical-align: top;\n",
       "    }\n",
       "\n",
       "    .dataframe thead th {\n",
       "        text-align: right;\n",
       "    }\n",
       "</style>\n",
       "<table border=\"1\" class=\"dataframe\">\n",
       "  <thead>\n",
       "    <tr style=\"text-align: right;\">\n",
       "      <th></th>\n",
       "      <th>Date</th>\n",
       "      <th>Open</th>\n",
       "      <th>High</th>\n",
       "      <th>Low</th>\n",
       "      <th>Close</th>\n",
       "      <th>Adj Close</th>\n",
       "      <th>Volume</th>\n",
       "    </tr>\n",
       "  </thead>\n",
       "  <tbody>\n",
       "    <tr>\n",
       "      <th>2718</th>\n",
       "      <td>2020-10-20</td>\n",
       "      <td>31.969999</td>\n",
       "      <td>32.410000</td>\n",
       "      <td>31.590000</td>\n",
       "      <td>31.980000</td>\n",
       "      <td>31.980000</td>\n",
       "      <td>14244300</td>\n",
       "    </tr>\n",
       "    <tr>\n",
       "      <th>2719</th>\n",
       "      <td>2020-10-21</td>\n",
       "      <td>31.889999</td>\n",
       "      <td>31.940001</td>\n",
       "      <td>31.370001</td>\n",
       "      <td>31.500000</td>\n",
       "      <td>31.500000</td>\n",
       "      <td>11292300</td>\n",
       "    </tr>\n",
       "    <tr>\n",
       "      <th>2720</th>\n",
       "      <td>2020-10-22</td>\n",
       "      <td>31.870001</td>\n",
       "      <td>33.810001</td>\n",
       "      <td>31.719999</td>\n",
       "      <td>33.720001</td>\n",
       "      <td>33.720001</td>\n",
       "      <td>25713700</td>\n",
       "    </tr>\n",
       "    <tr>\n",
       "      <th>2721</th>\n",
       "      <td>2020-10-23</td>\n",
       "      <td>33.520000</td>\n",
       "      <td>34.040001</td>\n",
       "      <td>32.900002</td>\n",
       "      <td>34.000000</td>\n",
       "      <td>34.000000</td>\n",
       "      <td>15247300</td>\n",
       "    </tr>\n",
       "    <tr>\n",
       "      <th>2722</th>\n",
       "      <td>2020-10-26</td>\n",
       "      <td>33.500000</td>\n",
       "      <td>33.500000</td>\n",
       "      <td>31.530001</td>\n",
       "      <td>31.930000</td>\n",
       "      <td>31.930000</td>\n",
       "      <td>16558300</td>\n",
       "    </tr>\n",
       "  </tbody>\n",
       "</table>\n",
       "</div>"
      ],
      "text/plain": [
       "            Date       Open       High        Low      Close  Adj Close  \\\n",
       "2718  2020-10-20  31.969999  32.410000  31.590000  31.980000  31.980000   \n",
       "2719  2020-10-21  31.889999  31.940001  31.370001  31.500000  31.500000   \n",
       "2720  2020-10-22  31.870001  33.810001  31.719999  33.720001  33.720001   \n",
       "2721  2020-10-23  33.520000  34.040001  32.900002  34.000000  34.000000   \n",
       "2722  2020-10-26  33.500000  33.500000  31.530001  31.930000  31.930000   \n",
       "\n",
       "        Volume  \n",
       "2718  14244300  \n",
       "2719  11292300  \n",
       "2720  25713700  \n",
       "2721  15247300  \n",
       "2722  16558300  "
      ]
     },
     "execution_count": 521,
     "metadata": {},
     "output_type": "execute_result"
    }
   ],
   "source": [
    "dataset_test.head()"
   ]
  },
  {
   "cell_type": "code",
   "execution_count": 522,
   "metadata": {},
   "outputs": [
    {
     "name": "stdout",
     "output_type": "stream",
     "text": [
      "(302, 1)\n",
      "[31.96999931]\n"
     ]
    }
   ],
   "source": [
    "#keras only takes numpy array\n",
    "real_stock_price = dataset_test.iloc[:, 1: 2].values\n",
    "print(real_stock_price.shape)\n",
    "print(real_stock_price[0])"
   ]
  },
  {
   "cell_type": "markdown",
   "metadata": {},
   "source": [
    "#### 4.3.2 Concat and convert"
   ]
  },
  {
   "cell_type": "code",
   "execution_count": 523,
   "metadata": {},
   "outputs": [],
   "source": [
    "#vertical concat use 0, horizontal uses 1\n",
    "dataset_total = pd.concat((dataset_train['Open'], dataset_test['Open']), \n",
    "                          axis = 0)\n",
    "##use .values to make numpy array\n",
    "inputs = dataset_total[len(dataset_total) - len(dataset_test) - 60:].values"
   ]
  },
  {
   "cell_type": "markdown",
   "metadata": {},
   "source": [
    "#### 4.3.3 Reshape and scale"
   ]
  },
  {
   "cell_type": "code",
   "execution_count": 524,
   "metadata": {},
   "outputs": [],
   "source": [
    "#reshape data to only have 1 col\n",
    "inputs = inputs.reshape(-1, 1)\n",
    "\n",
    "#scale input\n",
    "inputs = sc.transform(inputs)"
   ]
  },
  {
   "cell_type": "code",
   "execution_count": 525,
   "metadata": {},
   "outputs": [
    {
     "name": "stdout",
     "output_type": "stream",
     "text": [
      "(362, 1)\n"
     ]
    }
   ],
   "source": [
    "len(inputs)\n",
    "print(inputs.shape)"
   ]
  },
  {
   "cell_type": "markdown",
   "metadata": {},
   "source": [
    "#### 4.3.4 Create test data strucutre"
   ]
  },
  {
   "cell_type": "code",
   "execution_count": 526,
   "metadata": {},
   "outputs": [],
   "source": [
    "X_test = []\n",
    "for i in range(60, len(inputs)):\n",
    "    X_test.append(inputs[i-60:i, 0])\n",
    "X_test = np.array(X_test)\n",
    "#add dimension of indicator\n",
    "X_test = np.reshape(X_test, (X_test.shape[0], X_test.shape[1], 1))"
   ]
  },
  {
   "cell_type": "code",
   "execution_count": 527,
   "metadata": {},
   "outputs": [
    {
     "data": {
      "text/plain": [
       "(302, 60, 1)"
      ]
     },
     "execution_count": 527,
     "metadata": {},
     "output_type": "execute_result"
    }
   ],
   "source": [
    "# X_test = np.expand_dims(X_test, axis=1)\n",
    "# X_test = X_test.reshape(X_test[0], X_test[1]*X_test[2])\n",
    "X_test.shape\n",
    "# print(X_test)"
   ]
  },
  {
   "cell_type": "markdown",
   "metadata": {},
   "source": [
    "#### 4.3.5 Model prediction"
   ]
  },
  {
   "cell_type": "code",
   "execution_count": 528,
   "metadata": {},
   "outputs": [],
   "source": [
    "predicted_stock_price = model.predict(X_test)\n",
    "predicted_stock_price = np.ndarray.flatten(predicted_stock_price)\n",
    "predicted_stock_price = predicted_stock_price.reshape(-1, 1)"
   ]
  },
  {
   "cell_type": "code",
   "execution_count": 529,
   "metadata": {},
   "outputs": [],
   "source": [
    "#inverse the scaled value\n",
    "predicted_stock_price = sc.inverse_transform(predicted_stock_price)"
   ]
  },
  {
   "cell_type": "markdown",
   "metadata": {},
   "source": [
    "#### 4.3.6 Result visualization"
   ]
  },
  {
   "cell_type": "code",
   "execution_count": 530,
   "metadata": {},
   "outputs": [
    {
     "data": {
      "image/png": "[encoded data removed]",
      "text/plain": [
       "<Figure size 576x360 with 1 Axes>"
      ]
     },
     "metadata": {
      "needs_background": "light"
     },
     "output_type": "display_data"
    },
    {
     "name": "stdout",
     "output_type": "stream",
     "text": [
      "MSE: 2.34906804699416\n",
      "MAE: 1.1879393154422178\n",
      "R^2: 0.8738606760164237\n"
     ]
    }
   ],
   "source": [
    "date = df['Date'].iloc[int(length*0.9):int(length)].values\n",
    "\n",
    "plt.figure(figsize=(8,5))\n",
    "plt.plot(date, real_stock_price, color = 'red', label = 'Real price')\n",
    "plt.plot(date, predicted_stock_price, color = 'blue', label = 'Predicted price')\n",
    "\n",
    "plt.title('DAL Stock Price Prediction')\n",
    "plt.xticks(np.arange(0,len(predicted_stock_price),50))\n",
    "plt.xlabel('Time')\n",
    "plt.ylabel('Price')\n",
    "plt.legend()\n",
    "plt.show()\n",
    "print(f'MSE: {mean_squared_error(real_stock_price, predicted_stock_price)}')\n",
    "print(f'MAE: {mean_absolute_error(real_stock_price, predicted_stock_price)}')\n",
    "print(f'R^2: {r2_score(real_stock_price, predicted_stock_price)}')"
   ]
  },
  {
   "cell_type": "code",
   "execution_count": null,
   "metadata": {},
   "outputs": [],
   "source": []
  }
 ],
 "metadata": {
  "kernelspec": {
   "display_name": "Python 3",
   "language": "python",
   "name": "python3"
  },
  "language_info": {
   "codemirror_mode": {
    "name": "ipython",
    "version": 3
   },
   "file_extension": ".py",
   "mimetype": "text/x-python",
   "name": "python",
   "nbconvert_exporter": "python",
   "pygments_lexer": "ipython3",
   "version": "3.8.8"
  }
 },
 "nbformat": 4,
 "nbformat_minor": 4
}
