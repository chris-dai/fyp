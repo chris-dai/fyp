{
 "cells": [
  {
   "cell_type": "markdown",
   "metadata": {
    "id": "aT1G-bDR35k9"
   },
   "source": [
    "_Ref: https://towardsdatascience.com/lstm-time-series-forecasting-predicting-stock-prices-using-an-lstm-model-6223e9644a2f_"
   ]
  },
  {
   "cell_type": "code",
   "execution_count": 54,
   "metadata": {
    "id": "KV-ci3wxJPWq"
   },
   "outputs": [],
   "source": [
    "import math\n",
    "import matplotlib.pyplot as plt\n",
    "import keras\n",
    "import pandas as pd\n",
    "import numpy as np\n",
    "from keras.models import Model\n",
    "from keras.layers import Dense, Input\n",
    "from keras.layers import LSTM\n",
    "from keras.models import Sequential\n",
    "from keras.layers import Dropout\n",
    "from keras.layers import *\n",
    "from sklearn.preprocessing import MinMaxScaler\n",
    "from sklearn.metrics import mean_squared_error\n",
    "from sklearn.metrics import mean_absolute_error\n",
    "from sklearn.metrics import r2_score\n",
    "from sklearn.model_selection import train_test_split\n",
    "from keras.callbacks import EarlyStopping\n",
    "import tensorflow.keras.backend as K"
   ]
  },
  {
   "cell_type": "markdown",
   "metadata": {
    "id": "GBGmJ8ZzrPgY"
   },
   "source": [
    "# Load and transform"
   ]
  },
  {
   "cell_type": "code",
   "execution_count": 55,
   "metadata": {
    "colab": {
     "base_uri": "https://localhost:8080/",
     "height": 237
    },
    "id": "BCB-d0AqJWFB",
    "outputId": "722150e4-2da3-4b3c-cf47-0b4f5b1c8111"
   },
   "outputs": [
    {
     "name": "stdout",
     "output_type": "stream",
     "text": [
      "Number of rows and columns: (3020, 7)\n",
      "<built-in function len>\n"
     ]
    },
    {
     "data": {
      "text/html": [
       "<div>\n",
       "<style scoped>\n",
       "    .dataframe tbody tr th:only-of-type {\n",
       "        vertical-align: middle;\n",
       "    }\n",
       "\n",
       "    .dataframe tbody tr th {\n",
       "        vertical-align: top;\n",
       "    }\n",
       "\n",
       "    .dataframe thead th {\n",
       "        text-align: right;\n",
       "    }\n",
       "</style>\n",
       "<table border=\"1\" class=\"dataframe\">\n",
       "  <thead>\n",
       "    <tr style=\"text-align: right;\">\n",
       "      <th></th>\n",
       "      <th>Date</th>\n",
       "      <th>Open</th>\n",
       "      <th>High</th>\n",
       "      <th>Low</th>\n",
       "      <th>Close</th>\n",
       "      <th>Adj Close</th>\n",
       "      <th>Volume</th>\n",
       "    </tr>\n",
       "  </thead>\n",
       "  <tbody>\n",
       "    <tr>\n",
       "      <th>0</th>\n",
       "      <td>2010-01-04</td>\n",
       "      <td>4.84</td>\n",
       "      <td>4.94</td>\n",
       "      <td>4.66</td>\n",
       "      <td>4.77</td>\n",
       "      <td>4.496877</td>\n",
       "      <td>9837300</td>\n",
       "    </tr>\n",
       "    <tr>\n",
       "      <th>1</th>\n",
       "      <td>2010-01-05</td>\n",
       "      <td>4.79</td>\n",
       "      <td>5.37</td>\n",
       "      <td>4.71</td>\n",
       "      <td>5.31</td>\n",
       "      <td>5.005957</td>\n",
       "      <td>25212000</td>\n",
       "    </tr>\n",
       "    <tr>\n",
       "      <th>2</th>\n",
       "      <td>2010-01-06</td>\n",
       "      <td>5.19</td>\n",
       "      <td>5.38</td>\n",
       "      <td>5.00</td>\n",
       "      <td>5.09</td>\n",
       "      <td>4.798554</td>\n",
       "      <td>16597900</td>\n",
       "    </tr>\n",
       "    <tr>\n",
       "      <th>3</th>\n",
       "      <td>2010-01-07</td>\n",
       "      <td>5.06</td>\n",
       "      <td>5.43</td>\n",
       "      <td>5.05</td>\n",
       "      <td>5.24</td>\n",
       "      <td>4.939965</td>\n",
       "      <td>14033400</td>\n",
       "    </tr>\n",
       "    <tr>\n",
       "      <th>4</th>\n",
       "      <td>2010-01-08</td>\n",
       "      <td>5.27</td>\n",
       "      <td>5.43</td>\n",
       "      <td>5.06</td>\n",
       "      <td>5.14</td>\n",
       "      <td>4.845692</td>\n",
       "      <td>12760000</td>\n",
       "    </tr>\n",
       "  </tbody>\n",
       "</table>\n",
       "</div>"
      ],
      "text/plain": [
       "         Date  Open  High   Low  Close  Adj Close    Volume\n",
       "0  2010-01-04  4.84  4.94  4.66   4.77   4.496877   9837300\n",
       "1  2010-01-05  4.79  5.37  4.71   5.31   5.005957  25212000\n",
       "2  2010-01-06  5.19  5.38  5.00   5.09   4.798554  16597900\n",
       "3  2010-01-07  5.06  5.43  5.05   5.24   4.939965  14033400\n",
       "4  2010-01-08  5.27  5.43  5.06   5.14   4.845692  12760000"
      ]
     },
     "execution_count": 55,
     "metadata": {},
     "output_type": "execute_result"
    }
   ],
   "source": [
    "df=pd.read_csv('AAL.csv')\n",
    "print('Number of rows and columns:', df.shape)\n",
    "length = df.shape[0]\n",
    "print(len)\n",
    "df.head()"
   ]
  },
  {
   "cell_type": "markdown",
   "metadata": {
    "id": "xHrmHpevrVKt"
   },
   "source": [
    "`close_log`: $log\\frac{Price_t}{Price_{t-1}}\\;\\;\\;\\;\\;$\n",
    "`target_log`: $log\\frac{Price_{t+33}}{Price_{t+28}}$"
   ]
  },
  {
   "cell_type": "code",
   "execution_count": 56,
   "metadata": {
    "id": "gWNj1X2Y2v_h"
   },
   "outputs": [],
   "source": [
    "seq_length = 30\n",
    "step_predict = 5"
   ]
  },
  {
   "cell_type": "code",
   "execution_count": 57,
   "metadata": {
    "id": "3h5AYl3us73c"
   },
   "outputs": [
    {
     "name": "stdout",
     "output_type": "stream",
     "text": [
      "0            NaN\n",
      "1       0.107246\n",
      "2      -0.042314\n",
      "3       0.029044\n",
      "4      -0.019268\n",
      "          ...   \n",
      "3015    0.000000\n",
      "3016   -0.004941\n",
      "3017    0.020159\n",
      "3018   -0.026785\n",
      "3019    0.001107\n",
      "Name: close_log, Length: 3020, dtype: float64\n"
     ]
    }
   ],
   "source": [
    "df['close_log'] = np.log(df['Close'] / df['Close'].shift(1))\n",
    "df['vol_log'] = np.log(df['Volume'] / df['Volume'].shift(1))\n",
    "df['target_log'] = np.log(df['Close'].shift(-step_predict) / df['Close'])\n",
    "\n",
    "print(df['close_log'])"
   ]
  },
  {
   "cell_type": "code",
   "execution_count": 58,
   "metadata": {
    "colab": {
     "base_uri": "https://localhost:8080/"
    },
    "id": "XSc8DN6X189e",
    "outputId": "d76a3c02-7d71-4c7f-9573-a6a7bdd9db4b"
   },
   "outputs": [
    {
     "data": {
      "text/plain": [
       "((604, 11), (151, 11), (151, 11))"
      ]
     },
     "execution_count": 58,
     "metadata": {},
     "output_type": "execute_result"
    }
   ],
   "source": [
    "train_df = df[int(length*0.7):int(length*0.9)].copy()\n",
    "train_df.reset_index(inplace=True)\n",
    "val_df = df[int(length*0.9):int(length*0.95)].copy()\n",
    "val_df.reset_index(inplace=True)\n",
    "test_df = df.loc[int(length*0.95):].copy()\n",
    "test_df.reset_index(inplace=True)\n",
    "train_df.shape, val_df.shape, test_df.shape"
   ]
  },
  {
   "cell_type": "markdown",
   "metadata": {
    "id": "8Shby5g_sdKI"
   },
   "source": [
    "`sequence`: $\\left[log\\frac{Price_t}{Price_{t-1}},log\\frac{Price_{t+1}}{Price_{t}}, \\dots,log\\frac{Price_{t+28}}{Price_{t+27}}\\right]$"
   ]
  },
  {
   "cell_type": "code",
   "execution_count": 59,
   "metadata": {
    "colab": {
     "base_uri": "https://localhost:8080/"
    },
    "id": "bkToMYeFJsKw",
    "outputId": "90f4376e-9946-4edd-f7fa-37a1d6c0cf9c"
   },
   "outputs": [
    {
     "data": {
      "text/plain": [
       "((569, 29, 2), (569,))"
      ]
     },
     "execution_count": 59,
     "metadata": {},
     "output_type": "execute_result"
    }
   ],
   "source": [
    "# sc = MinMaxScaler().fit(train_df[1: train_df.shape[0]-step_predict].close_log.values.reshape(-1, 1))\n",
    "# sequences = sc.transform(train_df[1: train_df.shape[0]-step_predict].close_log.values)\n",
    "X_train = []\n",
    "y_train = []\n",
    "for i in range(seq_length, train_df.shape[0]-step_predict):\n",
    "    X_train.append(train_df[i-seq_length+1: i][['close_log', 'vol_log']].values)\n",
    "    y_train.append(train_df.loc[i-1, 'target_log'])\n",
    "X_train, y_train= np.array(X_train), np.array(y_train)\n",
    "X_train = np.reshape(X_train, (X_train.shape[0], X_train.shape[1], 2))\n",
    "X_train.shape, y_train.shape"
   ]
  },
  {
   "cell_type": "code",
   "execution_count": 60,
   "metadata": {
    "colab": {
     "base_uri": "https://localhost:8080/"
    },
    "id": "J8O_H_PUH-Rr",
    "outputId": "f174840b-e0ae-40b3-e9c0-67282334dbc1"
   },
   "outputs": [
    {
     "data": {
      "text/plain": [
       "((116, 29, 2), (116,))"
      ]
     },
     "execution_count": 60,
     "metadata": {},
     "output_type": "execute_result"
    }
   ],
   "source": [
    "X_val = []\n",
    "y_val = []\n",
    "for i in range(seq_length, val_df.shape[0]-step_predict):\n",
    "    X_val.append(val_df[i-seq_length+1: i][['close_log', 'vol_log']].values)\n",
    "    y_val.append(val_df.loc[i-1, 'target_log'])\n",
    "X_val, y_val= np.array(X_val), np.array(y_val)\n",
    "X_val = np.reshape(X_val, (X_val.shape[0], X_val.shape[1], 2))\n",
    "X_val.shape, y_val.shape"
   ]
  },
  {
   "cell_type": "markdown",
   "metadata": {
    "id": "yvug9V2BtaWu"
   },
   "source": [
    "# Model"
   ]
  },
  {
   "cell_type": "code",
   "execution_count": 61,
   "metadata": {
    "id": "Rxu_hGf50vK2"
   },
   "outputs": [],
   "source": [
    "def root_mean_squared_error(y_true, y_pred):\n",
    "        return K.sqrt(K.mean(K.square(y_pred - y_true)))"
   ]
  },
  {
   "cell_type": "markdown",
   "metadata": {},
   "source": [
    "## LSTM"
   ]
  },
  {
   "cell_type": "code",
   "execution_count": 62,
   "metadata": {
    "colab": {
     "base_uri": "https://localhost:8080/"
    },
    "id": "PdqLxZfaJeAK",
    "outputId": "f9f91585-c6ae-4fd4-f7da-eb0b004198b0"
   },
   "outputs": [
    {
     "name": "stdout",
     "output_type": "stream",
     "text": [
      "Epoch 1/100\n",
      "18/18 [==============================] - 9s 115ms/step - loss: 0.0111 - val_loss: 0.0065\n",
      "Epoch 2/100\n",
      "18/18 [==============================] - 1s 45ms/step - loss: 0.0109 - val_loss: 0.0051\n",
      "Epoch 3/100\n",
      "18/18 [==============================] - 1s 41ms/step - loss: 0.0106 - val_loss: 0.0056\n",
      "Epoch 4/100\n",
      "18/18 [==============================] - 1s 40ms/step - loss: 0.0105 - val_loss: 0.0061\n",
      "Epoch 5/100\n",
      "18/18 [==============================] - 1s 41ms/step - loss: 0.0109 - val_loss: 0.0047\n",
      "Epoch 6/100\n",
      "18/18 [==============================] - 1s 40ms/step - loss: 0.0107 - val_loss: 0.0050\n",
      "Epoch 7/100\n",
      "18/18 [==============================] - 1s 42ms/step - loss: 0.0105 - val_loss: 0.0048\n",
      "Epoch 8/100\n",
      "18/18 [==============================] - 1s 43ms/step - loss: 0.0105 - val_loss: 0.0058\n",
      "Epoch 9/100\n",
      "18/18 [==============================] - 1s 40ms/step - loss: 0.0106 - val_loss: 0.0051\n",
      "Epoch 10/100\n",
      "18/18 [==============================] - 1s 41ms/step - loss: 0.0106 - val_loss: 0.0049\n",
      "Epoch 11/100\n",
      "18/18 [==============================] - 1s 39ms/step - loss: 0.0104 - val_loss: 0.0051\n",
      "Epoch 12/100\n",
      "18/18 [==============================] - 1s 64ms/step - loss: 0.0102 - val_loss: 0.0051\n",
      "Epoch 13/100\n",
      "18/18 [==============================] - 1s 40ms/step - loss: 0.0104 - val_loss: 0.0048\n",
      "Epoch 14/100\n",
      "18/18 [==============================] - 1s 42ms/step - loss: 0.0100 - val_loss: 0.0073\n",
      "Epoch 15/100\n",
      "18/18 [==============================] - 1s 39ms/step - loss: 0.0104 - val_loss: 0.0049\n",
      "Epoch 16/100\n",
      "18/18 [==============================] - 1s 40ms/step - loss: 0.0103 - val_loss: 0.0060\n",
      "Epoch 17/100\n",
      "18/18 [==============================] - 1s 40ms/step - loss: 0.0101 - val_loss: 0.0059\n",
      "Epoch 18/100\n",
      "18/18 [==============================] - 1s 40ms/step - loss: 0.0101 - val_loss: 0.0054\n",
      "Epoch 19/100\n",
      "18/18 [==============================] - 1s 44ms/step - loss: 0.0102 - val_loss: 0.0057\n",
      "Epoch 20/100\n",
      "18/18 [==============================] - 1s 41ms/step - loss: 0.0102 - val_loss: 0.0057\n",
      "Epoch 21/100\n",
      "18/18 [==============================] - 1s 40ms/step - loss: 0.0104 - val_loss: 0.0065\n",
      "Epoch 22/100\n",
      "18/18 [==============================] - 1s 39ms/step - loss: 0.0102 - val_loss: 0.0056\n",
      "Epoch 23/100\n",
      "18/18 [==============================] - 1s 41ms/step - loss: 0.0100 - val_loss: 0.0073\n",
      "Epoch 24/100\n",
      "18/18 [==============================] - 1s 39ms/step - loss: 0.0098 - val_loss: 0.0050\n",
      "Epoch 25/100\n",
      "18/18 [==============================] - 1s 44ms/step - loss: 0.0103 - val_loss: 0.0049\n",
      "Epoch 26/100\n",
      "18/18 [==============================] - 1s 39ms/step - loss: 0.0098 - val_loss: 0.0063\n",
      "Epoch 27/100\n",
      "18/18 [==============================] - 1s 41ms/step - loss: 0.0101 - val_loss: 0.0054\n",
      "Epoch 28/100\n",
      "18/18 [==============================] - 1s 41ms/step - loss: 0.0102 - val_loss: 0.0048\n",
      "Epoch 29/100\n",
      "18/18 [==============================] - 1s 40ms/step - loss: 0.0101 - val_loss: 0.0049\n",
      "Epoch 30/100\n",
      "18/18 [==============================] - 1s 41ms/step - loss: 0.0099 - val_loss: 0.0049\n",
      "Epoch 31/100\n",
      "18/18 [==============================] - 1s 39ms/step - loss: 0.0100 - val_loss: 0.0053\n",
      "Epoch 32/100\n",
      "18/18 [==============================] - 1s 40ms/step - loss: 0.0097 - val_loss: 0.0063\n",
      "Epoch 33/100\n",
      "18/18 [==============================] - 1s 41ms/step - loss: 0.0096 - val_loss: 0.0074\n",
      "Epoch 34/100\n",
      "18/18 [==============================] - 1s 42ms/step - loss: 0.0094 - val_loss: 0.0066\n",
      "Epoch 35/100\n",
      "18/18 [==============================] - 1s 39ms/step - loss: 0.0093 - val_loss: 0.0061\n",
      "Epoch 36/100\n",
      "18/18 [==============================] - 1s 40ms/step - loss: 0.0095 - val_loss: 0.0072\n",
      "Epoch 37/100\n",
      "18/18 [==============================] - 1s 40ms/step - loss: 0.0095 - val_loss: 0.0067\n",
      "Epoch 38/100\n",
      "18/18 [==============================] - 1s 40ms/step - loss: 0.0092 - val_loss: 0.0062\n",
      "Epoch 39/100\n",
      "18/18 [==============================] - 1s 42ms/step - loss: 0.0090 - val_loss: 0.0059\n",
      "Epoch 40/100\n",
      "18/18 [==============================] - 1s 42ms/step - loss: 0.0091 - val_loss: 0.0059\n",
      "Epoch 41/100\n",
      "18/18 [==============================] - 1s 40ms/step - loss: 0.0094 - val_loss: 0.0062\n",
      "Epoch 42/100\n",
      "18/18 [==============================] - 1s 39ms/step - loss: 0.0089 - val_loss: 0.0058\n",
      "Epoch 43/100\n",
      "18/18 [==============================] - 1s 39ms/step - loss: 0.0090 - val_loss: 0.0058\n",
      "Epoch 44/100\n",
      "18/18 [==============================] - 1s 39ms/step - loss: 0.0090 - val_loss: 0.0075\n",
      "Epoch 45/100\n",
      "18/18 [==============================] - 1s 38ms/step - loss: 0.0089 - val_loss: 0.0058\n",
      "Epoch 46/100\n",
      "18/18 [==============================] - 1s 38ms/step - loss: 0.0089 - val_loss: 0.0069\n",
      "Epoch 47/100\n",
      "18/18 [==============================] - 1s 39ms/step - loss: 0.0085 - val_loss: 0.0075\n",
      "Epoch 48/100\n",
      "18/18 [==============================] - 1s 38ms/step - loss: 0.0087 - val_loss: 0.0098\n",
      "Epoch 49/100\n",
      "18/18 [==============================] - 1s 39ms/step - loss: 0.0086 - val_loss: 0.0087\n",
      "Epoch 50/100\n",
      "18/18 [==============================] - 1s 38ms/step - loss: 0.0082 - val_loss: 0.0073\n",
      "Epoch 51/100\n",
      "18/18 [==============================] - 1s 55ms/step - loss: 0.0101 - val_loss: 0.0056\n",
      "Epoch 52/100\n",
      "18/18 [==============================] - 1s 40ms/step - loss: 0.0098 - val_loss: 0.0067\n",
      "Epoch 53/100\n",
      "18/18 [==============================] - 1s 46ms/step - loss: 0.0091 - val_loss: 0.0078\n",
      "Epoch 54/100\n",
      "18/18 [==============================] - 1s 41ms/step - loss: 0.0088 - val_loss: 0.0065\n",
      "Epoch 55/100\n",
      "18/18 [==============================] - 1s 39ms/step - loss: 0.0085 - val_loss: 0.0071\n",
      "Epoch 56/100\n",
      "18/18 [==============================] - 1s 42ms/step - loss: 0.0089 - val_loss: 0.0064\n",
      "Epoch 57/100\n",
      "18/18 [==============================] - 1s 38ms/step - loss: 0.0086 - val_loss: 0.0063\n",
      "Epoch 58/100\n",
      "18/18 [==============================] - 1s 40ms/step - loss: 0.0085 - val_loss: 0.0075\n",
      "Epoch 59/100\n",
      "18/18 [==============================] - 1s 38ms/step - loss: 0.0080 - val_loss: 0.0066\n",
      "Epoch 60/100\n",
      "18/18 [==============================] - 1s 39ms/step - loss: 0.0086 - val_loss: 0.0072\n",
      "Epoch 61/100\n",
      "18/18 [==============================] - 1s 39ms/step - loss: 0.0084 - val_loss: 0.0076\n",
      "Epoch 62/100\n",
      "18/18 [==============================] - 1s 38ms/step - loss: 0.0084 - val_loss: 0.0095\n",
      "Epoch 63/100\n",
      "18/18 [==============================] - 1s 38ms/step - loss: 0.0080 - val_loss: 0.0079\n",
      "Epoch 64/100\n",
      "18/18 [==============================] - 1s 38ms/step - loss: 0.0080 - val_loss: 0.0070\n",
      "Epoch 65/100\n",
      "18/18 [==============================] - 1s 39ms/step - loss: 0.0081 - val_loss: 0.0074\n",
      "Epoch 66/100\n",
      "18/18 [==============================] - 1s 39ms/step - loss: 0.0081 - val_loss: 0.0105\n",
      "Epoch 67/100\n",
      "18/18 [==============================] - 1s 39ms/step - loss: 0.0080 - val_loss: 0.0059\n",
      "Epoch 68/100\n",
      "18/18 [==============================] - 1s 39ms/step - loss: 0.0078 - val_loss: 0.0110\n",
      "Epoch 69/100\n",
      "18/18 [==============================] - 1s 39ms/step - loss: 0.0082 - val_loss: 0.0074\n",
      "Epoch 70/100\n",
      "18/18 [==============================] - 1s 37ms/step - loss: 0.0082 - val_loss: 0.0063\n",
      "Epoch 71/100\n",
      "18/18 [==============================] - 1s 38ms/step - loss: 0.0085 - val_loss: 0.0081\n",
      "Epoch 72/100\n",
      "18/18 [==============================] - 1s 38ms/step - loss: 0.0081 - val_loss: 0.0103\n",
      "Epoch 73/100\n",
      "18/18 [==============================] - 1s 39ms/step - loss: 0.0079 - val_loss: 0.0073\n",
      "Epoch 74/100\n",
      "18/18 [==============================] - 1s 39ms/step - loss: 0.0076 - val_loss: 0.0089\n",
      "Epoch 75/100\n",
      "18/18 [==============================] - 1s 40ms/step - loss: 0.0076 - val_loss: 0.0075\n",
      "Epoch 76/100\n",
      "18/18 [==============================] - 1s 38ms/step - loss: 0.0075 - val_loss: 0.0078\n",
      "Epoch 77/100\n",
      "18/18 [==============================] - 1s 38ms/step - loss: 0.0072 - val_loss: 0.0070\n",
      "Epoch 78/100\n",
      "18/18 [==============================] - 1s 38ms/step - loss: 0.0073 - val_loss: 0.0081\n",
      "Epoch 79/100\n",
      "18/18 [==============================] - 1s 39ms/step - loss: 0.0071 - val_loss: 0.0083\n",
      "Epoch 80/100\n",
      "18/18 [==============================] - 1s 38ms/step - loss: 0.0072 - val_loss: 0.0104\n",
      "Epoch 81/100\n",
      "18/18 [==============================] - 1s 40ms/step - loss: 0.0074 - val_loss: 0.0100\n",
      "Epoch 82/100\n",
      "18/18 [==============================] - 1s 38ms/step - loss: 0.0076 - val_loss: 0.0095\n",
      "Epoch 83/100\n",
      "18/18 [==============================] - 1s 39ms/step - loss: 0.0072 - val_loss: 0.0079\n",
      "Epoch 84/100\n",
      "18/18 [==============================] - 1s 39ms/step - loss: 0.0076 - val_loss: 0.0099\n",
      "Epoch 85/100\n",
      "18/18 [==============================] - 1s 39ms/step - loss: 0.0079 - val_loss: 0.0095\n",
      "Epoch 86/100\n",
      "18/18 [==============================] - 1s 39ms/step - loss: 0.0075 - val_loss: 0.0083\n",
      "Epoch 87/100\n",
      "18/18 [==============================] - 1s 39ms/step - loss: 0.0070 - val_loss: 0.0093\n",
      "Epoch 88/100\n",
      "18/18 [==============================] - 1s 63ms/step - loss: 0.0072 - val_loss: 0.0062\n",
      "Epoch 89/100\n",
      "18/18 [==============================] - 1s 42ms/step - loss: 0.0072 - val_loss: 0.0137\n",
      "Epoch 90/100\n",
      "18/18 [==============================] - 1s 39ms/step - loss: 0.0074 - val_loss: 0.0071\n",
      "Epoch 91/100\n",
      "18/18 [==============================] - 1s 38ms/step - loss: 0.0067 - val_loss: 0.0072\n",
      "Epoch 92/100\n",
      "18/18 [==============================] - 1s 38ms/step - loss: 0.0073 - val_loss: 0.0083\n",
      "Epoch 93/100\n",
      "18/18 [==============================] - 1s 39ms/step - loss: 0.0073 - val_loss: 0.0080\n",
      "Epoch 94/100\n",
      "18/18 [==============================] - 1s 39ms/step - loss: 0.0063 - val_loss: 0.0091\n",
      "Epoch 95/100\n",
      "18/18 [==============================] - 1s 40ms/step - loss: 0.0069 - val_loss: 0.0092\n",
      "Epoch 96/100\n",
      "18/18 [==============================] - 1s 40ms/step - loss: 0.0073 - val_loss: 0.0083\n",
      "Epoch 97/100\n",
      "18/18 [==============================] - 1s 39ms/step - loss: 0.0069 - val_loss: 0.0070\n",
      "Epoch 98/100\n",
      "18/18 [==============================] - 1s 39ms/step - loss: 0.0069 - val_loss: 0.0079\n",
      "Epoch 99/100\n",
      "18/18 [==============================] - 1s 39ms/step - loss: 0.0072 - val_loss: 0.0066\n",
      "Epoch 100/100\n",
      "18/18 [==============================] - 1s 39ms/step - loss: 0.0074 - val_loss: 0.0090\n"
     ]
    }
   ],
   "source": [
    "inputs = Input(shape=(X_train.shape[1], 2))\n",
    "lstm1 = LSTM(units=50, return_sequences=True)(inputs)\n",
    "dropout1 = Dropout(rate=0.5)(lstm1)\n",
    "lstm2 = LSTM(units=50, return_sequences=True)(dropout1)\n",
    "dropout2 = Dropout(rate=0.5)(lstm2)\n",
    "lstm3 = LSTM(units=50)(dropout2)\n",
    "dropout3 = Dropout(rate=0.5)(lstm3)\n",
    "fc1 = Dense(units=100)(dropout3)\n",
    "fc2 = Dense(units=50)(fc1)\n",
    "fc3 = Dense(units=25)(fc2)\n",
    "output = Dense(units=1)(fc3)\n",
    "\n",
    "model = Model(inputs=inputs, outputs=output)\n",
    "model.compile(optimizer = 'adam', loss = 'mean_squared_error')\n",
    "history = model.fit(X_train, y_train, epochs = 100, batch_size = 32, validation_data=(X_val, y_val))"
   ]
  },
  {
   "cell_type": "code",
   "execution_count": 63,
   "metadata": {},
   "outputs": [
    {
     "name": "stdout",
     "output_type": "stream",
     "text": [
      "Model: \"model_2\"\n",
      "_________________________________________________________________\n",
      " Layer (type)                Output Shape              Param #   \n",
      "=================================================================\n",
      " input_3 (InputLayer)        [(None, 29, 2)]           0         \n",
      "                                                                 \n",
      " lstm_6 (LSTM)               (None, 29, 50)            10600     \n",
      "                                                                 \n",
      " dropout_6 (Dropout)         (None, 29, 50)            0         \n",
      "                                                                 \n",
      " lstm_7 (LSTM)               (None, 29, 50)            20200     \n",
      "                                                                 \n",
      " dropout_7 (Dropout)         (None, 29, 50)            0         \n",
      "                                                                 \n",
      " lstm_8 (LSTM)               (None, 50)                20200     \n",
      "                                                                 \n",
      " dropout_8 (Dropout)         (None, 50)                0         \n",
      "                                                                 \n",
      " dense_8 (Dense)             (None, 100)               5100      \n",
      "                                                                 \n",
      " dense_9 (Dense)             (None, 50)                5050      \n",
      "                                                                 \n",
      " dense_10 (Dense)            (None, 25)                1275      \n",
      "                                                                 \n",
      " dense_11 (Dense)            (None, 1)                 26        \n",
      "                                                                 \n",
      "=================================================================\n",
      "Total params: 62,451\n",
      "Trainable params: 62,451\n",
      "Non-trainable params: 0\n",
      "_________________________________________________________________\n",
      "None\n"
     ]
    }
   ],
   "source": [
    "print(model.summary())"
   ]
  },
  {
   "cell_type": "code",
   "execution_count": 64,
   "metadata": {},
   "outputs": [],
   "source": [
    "# model = Sequential()\n",
    "# model.add(InputLayer(input_shape=(X_train.shape[1], 2)))\n",
    "# #add model layers\n",
    "# model.add(TimeDistributed(Conv1D(128, kernel_size=1, activation='relu')))\n",
    "# model.add(TimeDistributed(MaxPooling1D(2)))\n",
    "# model.add(TimeDistributed(Conv1D(256, kernel_size=1, activation='relu')))\n",
    "# model.add(TimeDistributed(MaxPooling1D(2)))\n",
    "# model.add(TimeDistributed(Conv1D(512, kernel_size=1, activation='relu')))\n",
    "# model.add(TimeDistributed(MaxPooling1D(2)))\n",
    "# model.add(TimeDistributed(Flatten()))\n",
    "# model.add(Bidirectional(LSTM(200,return_sequences=True)))\n",
    "# model.add(Dropout(0.25))\n",
    "# model.add(Bidirectional(LSTM(200,return_sequences=False)))\n",
    "# model.add(Dropout(0.5))\n",
    "# model.add(Dense(1, activation='linear'))\n",
    "# model.compile(optimizer='adam', loss='mse')\n",
    "# model.fit(X_train, y_train, epochs = 200, batch_size = 32, validation_data=(X_val, y_val))"
   ]
  },
  {
   "cell_type": "code",
   "execution_count": 65,
   "metadata": {
    "colab": {
     "base_uri": "https://localhost:8080/",
     "height": 295
    },
    "id": "L5oEvYm_-9WP",
    "outputId": "4b9146a0-b868-4b47-b867-4b47520201fa"
   },
   "outputs": [
    {
     "data": {
      "image/png": "[encoded data removed]",
      "text/plain": [
       "<Figure size 432x288 with 1 Axes>"
      ]
     },
     "metadata": {
      "needs_background": "light"
     },
     "output_type": "display_data"
    }
   ],
   "source": [
    "# summarize history for loss\n",
    "plt.plot(history.history['loss'])\n",
    "plt.plot(history.history['val_loss'])\n",
    "plt.title('model loss')\n",
    "plt.ylabel('loss')\n",
    "plt.xlabel('epoch')\n",
    "plt.legend(['train', 'test'], loc='upper left')\n",
    "plt.show()"
   ]
  },
  {
   "cell_type": "markdown",
   "metadata": {
    "id": "CaycokoLtnLl"
   },
   "source": [
    "# Predict and plot"
   ]
  },
  {
   "cell_type": "markdown",
   "metadata": {
    "id": "crADCnoxtpm_"
   },
   "source": [
    "### Train set"
   ]
  },
  {
   "cell_type": "code",
   "execution_count": 66,
   "metadata": {
    "colab": {
     "base_uri": "https://localhost:8080/"
    },
    "id": "9GOF1zQA4jlp",
    "outputId": "028420de-2b86-4b0a-9e5e-1796ef1da43d"
   },
   "outputs": [
    {
     "data": {
      "text/plain": [
       "(569, 569)"
      ]
     },
     "execution_count": 66,
     "metadata": {},
     "output_type": "execute_result"
    }
   ],
   "source": [
    "train_price = train_df[seq_length+step_predict:train_df.shape[0]].Close\n",
    "# train_predicted = lstm_model.predict(X_train)\n",
    "train_predicted = model.predict(X_train)\n",
    "# train_predicted = sc.inverse_transform(train_predicted)\n",
    "inv = train_df[seq_length:train_df.shape[0]-step_predict].Close.values.reshape(-1, 1)\n",
    "train_predicted = inv * np.exp(1)**train_predicted\n",
    "len(train_price), len(train_predicted)"
   ]
  },
  {
   "cell_type": "code",
   "execution_count": 67,
   "metadata": {
    "colab": {
     "base_uri": "https://localhost:8080/",
     "height": 472
    },
    "id": "XlFdg8xzGPsy",
    "outputId": "ec9e130b-60cd-4e84-d42c-c692ffae1b0f"
   },
   "outputs": [
    {
     "data": {
      "image/png": "[encoded data removed]",
      "text/plain": [
       "<Figure size 720x360 with 1 Axes>"
      ]
     },
     "metadata": {
      "needs_background": "light"
     },
     "output_type": "display_data"
    },
    {
     "name": "stdout",
     "output_type": "stream",
     "text": [
      "MSE: 3.318014643950254\n",
      "MAE: 1.3771469214894394\n",
      "R^2: 0.9641157254086538\n"
     ]
    }
   ],
   "source": [
    "# Visualising the results\n",
    "date = train_df[seq_length+step_predict:train_df.shape[0]].Date.values\n",
    "plt.figure(figsize=(10,5))\n",
    "plt.plot(date, train_price, color = 'red', label = 'Real praice')\n",
    "plt.plot(date, train_predicted, color = 'blue', label = 'Predicted praice')\n",
    "# plt.plot(train_price, color = 'red', label = 'Real praice')\n",
    "# plt.plot(train_predicted, color = 'blue', label = 'Predicted praice')\n",
    "plt.xticks(np.arange(0,len(train_predicted),70))\n",
    "plt.title('AAL Stock Price Prediction')\n",
    "plt.xlabel('Time')\n",
    "plt.ylabel('AAL Stock Price')\n",
    "plt.legend()\n",
    "plt.show()\n",
    "print(f'MSE: {mean_squared_error(train_price, train_predicted)}')\n",
    "print(f'MAE: {mean_absolute_error(train_price, train_predicted)}')\n",
    "print(f'R^2: {r2_score(train_price, train_predicted)}')"
   ]
  },
  {
   "cell_type": "markdown",
   "metadata": {
    "id": "f-23oxK_twFZ"
   },
   "source": [
    "### Val set"
   ]
  },
  {
   "cell_type": "code",
   "execution_count": 68,
   "metadata": {
    "colab": {
     "base_uri": "https://localhost:8080/"
    },
    "id": "u7AUvBkEH8Cy",
    "outputId": "b0f63b1f-2527-4183-deea-944bdac07055"
   },
   "outputs": [
    {
     "ename": "NameError",
     "evalue": "name 'lstm_model' is not defined",
     "output_type": "error",
     "traceback": [
      "\u001b[0;31m---------------------------------------------------------------------------\u001b[0m",
      "\u001b[0;31mNameError\u001b[0m                                 Traceback (most recent call last)",
      "\u001b[0;32m<ipython-input-68-39460acc4ad4>\u001b[0m in \u001b[0;36m<module>\u001b[0;34m\u001b[0m\n\u001b[1;32m      1\u001b[0m \u001b[0mval_price\u001b[0m \u001b[0;34m=\u001b[0m \u001b[0mval_df\u001b[0m\u001b[0;34m[\u001b[0m\u001b[0mseq_length\u001b[0m\u001b[0;34m+\u001b[0m\u001b[0mstep_predict\u001b[0m\u001b[0;34m:\u001b[0m\u001b[0mval_df\u001b[0m\u001b[0;34m.\u001b[0m\u001b[0mshape\u001b[0m\u001b[0;34m[\u001b[0m\u001b[0;36m0\u001b[0m\u001b[0;34m]\u001b[0m\u001b[0;34m]\u001b[0m\u001b[0;34m.\u001b[0m\u001b[0mClose\u001b[0m\u001b[0;34m\u001b[0m\u001b[0;34m\u001b[0m\u001b[0m\n\u001b[0;32m----> 2\u001b[0;31m \u001b[0mval_predicted\u001b[0m \u001b[0;34m=\u001b[0m \u001b[0mlstm_model\u001b[0m\u001b[0;34m.\u001b[0m\u001b[0mpredict\u001b[0m\u001b[0;34m(\u001b[0m\u001b[0mX_val\u001b[0m\u001b[0;34m)\u001b[0m\u001b[0;34m\u001b[0m\u001b[0;34m\u001b[0m\u001b[0m\n\u001b[0m\u001b[1;32m      3\u001b[0m \u001b[0;31m# val_predicted = sc.inverse_transform(val_predicted)\u001b[0m\u001b[0;34m\u001b[0m\u001b[0;34m\u001b[0m\u001b[0;34m\u001b[0m\u001b[0m\n\u001b[1;32m      4\u001b[0m \u001b[0minv\u001b[0m \u001b[0;34m=\u001b[0m \u001b[0mval_df\u001b[0m\u001b[0;34m[\u001b[0m\u001b[0mseq_length\u001b[0m\u001b[0;34m:\u001b[0m\u001b[0mval_df\u001b[0m\u001b[0;34m.\u001b[0m\u001b[0mshape\u001b[0m\u001b[0;34m[\u001b[0m\u001b[0;36m0\u001b[0m\u001b[0;34m]\u001b[0m\u001b[0;34m-\u001b[0m\u001b[0mstep_predict\u001b[0m\u001b[0;34m]\u001b[0m\u001b[0;34m.\u001b[0m\u001b[0mClose\u001b[0m\u001b[0;34m.\u001b[0m\u001b[0mvalues\u001b[0m\u001b[0;34m.\u001b[0m\u001b[0mreshape\u001b[0m\u001b[0;34m(\u001b[0m\u001b[0;34m-\u001b[0m\u001b[0;36m1\u001b[0m\u001b[0;34m,\u001b[0m \u001b[0;36m1\u001b[0m\u001b[0;34m)\u001b[0m\u001b[0;34m\u001b[0m\u001b[0;34m\u001b[0m\u001b[0m\n\u001b[1;32m      5\u001b[0m \u001b[0mval_predicted\u001b[0m \u001b[0;34m=\u001b[0m \u001b[0minv\u001b[0m \u001b[0;34m*\u001b[0m \u001b[0mnp\u001b[0m\u001b[0;34m.\u001b[0m\u001b[0mexp\u001b[0m\u001b[0;34m(\u001b[0m\u001b[0;36m1\u001b[0m\u001b[0;34m)\u001b[0m\u001b[0;34m**\u001b[0m\u001b[0mval_predicted\u001b[0m\u001b[0;34m\u001b[0m\u001b[0;34m\u001b[0m\u001b[0m\n",
      "\u001b[0;31mNameError\u001b[0m: name 'lstm_model' is not defined"
     ]
    }
   ],
   "source": [
    "val_price = val_df[seq_length+step_predict:val_df.shape[0]].Close\n",
    "val_predicted = lstm_model.predict(X_val)\n",
    "# val_predicted = sc.inverse_transform(val_predicted)\n",
    "inv = val_df[seq_length:val_df.shape[0]-step_predict].Close.values.reshape(-1, 1)\n",
    "val_predicted = inv * np.exp(1)**val_predicted\n",
    "len(val_price), len(val_predicted)"
   ]
  },
  {
   "cell_type": "code",
   "execution_count": null,
   "metadata": {
    "colab": {
     "base_uri": "https://localhost:8080/",
     "height": 472
    },
    "id": "xt02rjvz4WcW",
    "outputId": "960a0d88-41aa-4970-b9e1-d43e5f614103"
   },
   "outputs": [
    {
     "data": {
      "image/png": "[encoded data removed]",
      "text/plain": [
       "<Figure size 1440x720 with 1 Axes>"
      ]
     },
     "metadata": {
      "needs_background": "light"
     },
     "output_type": "display_data"
    },
    {
     "name": "stdout",
     "output_type": "stream",
     "text": [
      "RMSE: 2.715490676715521\n"
     ]
    }
   ],
   "source": [
    "# Visualising the results\n",
    "date = val_df[seq_length+step_predict:val_df.shape[0]].Date.values\n",
    "plt.figure(figsize=(20,10))\n",
    "plt.plot(date, val_price, color = 'red', label = 'Real DJIA')\n",
    "plt.plot(date, val_predicted, color = 'blue', label = 'Predicted DJIA')\n",
    "plt.xticks(np.arange(0,len(val_predicted),50))\n",
    "plt.title('VAL SET: DJIA Stock Price Prediction')\n",
    "plt.xlabel('Time')\n",
    "plt.ylabel('SJIA Stock Price')\n",
    "plt.legend()\n",
    "plt.show()\n",
    "print(f'RMSE: {mean_squared_error(val_price, val_predicted, squared=False)}')"
   ]
  },
  {
   "cell_type": "markdown",
   "metadata": {
    "id": "St3MSoCqtyWO"
   },
   "source": [
    "### Test set"
   ]
  },
  {
   "cell_type": "code",
   "execution_count": null,
   "metadata": {
    "id": "tqW8qWRqG2Ez"
   },
   "outputs": [],
   "source": [
    "# sc = MinMaxScaler().fit(test_df[1: test_df.shape[0]-step_predict].close_log.values.reshape(-1, 1))\n",
    "# x = sc.transform(test_df[1: test_df.shape[0]-step_predict].close_log.values.reshape(-1, 1))\n",
    "# test_df.loc[1: test_df.shape[0]-step_predict-1, 'close_log'] = x\n",
    "\n",
    "# sc = MinMaxScaler().fit(test_df[1: test_df.shape[0]-step_predict].vol_log.values.reshape(-1, 1))\n",
    "# x = sc.transform(test_df[1: test_df.shape[0]-step_predict].vol_log.values.reshape(-1, 1))\n",
    "# test_df.loc[1: test_df.shape[0]-step_predict-1, 'vol_log'] = x\n",
    "\n",
    "# sc = MinMaxScaler().fit(test_df[1: test_df.shape[0]-step_predict].target_log.values.reshape(-1, 1))\n",
    "# x = sc.transform(test_df[1: test_df.shape[0]-step_predict].target_log.values.reshape(-1, 1))\n",
    "# test_df.loc[1: test_df.shape[0]-step_predict-1, 'target_log'] = x"
   ]
  },
  {
   "cell_type": "code",
   "execution_count": null,
   "metadata": {
    "colab": {
     "base_uri": "https://localhost:8080/"
    },
    "id": "CDdyVmSkKHtP",
    "outputId": "b80ace45-1d68-4421-8baa-907429449af5"
   },
   "outputs": [
    {
     "data": {
      "text/plain": [
       "((3, 29, 2), (3,))"
      ]
     },
     "execution_count": 82,
     "metadata": {},
     "output_type": "execute_result"
    }
   ],
   "source": [
    "X_test = []\n",
    "y_test = []\n",
    "for i in range(seq_length, test_df.shape[0]-step_predict):\n",
    "    X_test.append(test_df[i-seq_length+1: i][['close_log', 'vol_log']].values)\n",
    "    y_test.append(test_df.loc[i-1, 'target_log'])\n",
    "X_test, y_test= np.array(X_test), np.array(y_test)\n",
    "X_test = np.reshape(X_test, (X_test.shape[0], X_test.shape[1], 2))\n",
    "X_test.shape, y_test.shape"
   ]
  },
  {
   "cell_type": "code",
   "execution_count": null,
   "metadata": {
    "colab": {
     "base_uri": "https://localhost:8080/"
    },
    "id": "U_Qx0H2waMIy",
    "outputId": "d89ef632-278d-4ac5-a2f5-dbd4af9fda0d"
   },
   "outputs": [
    {
     "data": {
      "text/plain": [
       "(3, 3)"
      ]
     },
     "execution_count": 83,
     "metadata": {},
     "output_type": "execute_result"
    }
   ],
   "source": [
    "test_price = test_df[seq_length+step_predict:test_df.shape[0]].Close\n",
    "test_predicted = lstm_model.predict(X_test)\n",
    "# test_predicted = sc.inverse_transform(test_predicted)\n",
    "inv = test_df[seq_length:test_df.shape[0]-step_predict].Close.values.reshape(-1, 1)\n",
    "test_predicted = inv * np.exp(1)**test_predicted\n",
    "len(test_price), len(test_predicted)"
   ]
  },
  {
   "cell_type": "code",
   "execution_count": null,
   "metadata": {
    "colab": {
     "base_uri": "https://localhost:8080/",
     "height": 472
    },
    "id": "LhzqrPttKhBS",
    "outputId": "8da104a3-8238-4746-fe85-5dbcacbb0250"
   },
   "outputs": [
    {
     "data": {
      "image/png": "[encoded data removed]",
      "text/plain": [
       "<Figure size 1440x720 with 1 Axes>"
      ]
     },
     "metadata": {
      "needs_background": "light"
     },
     "output_type": "display_data"
    },
    {
     "name": "stdout",
     "output_type": "stream",
     "text": [
      "RMSE: 2.7652992209636693\n"
     ]
    }
   ],
   "source": [
    "# Visualising the results\n",
    "date = test_df[seq_length+step_predict:test_df.shape[0]].Date.values\n",
    "plt.figure(figsize=(20,10))\n",
    "plt.plot(date, test_price, color = 'red', label = 'Real DJIA')\n",
    "plt.plot(date, test_predicted, color = 'blue', label = 'Predicted DJIA')\n",
    "plt.xticks(np.arange(0,len(test_predicted),50))\n",
    "plt.title('TEST SET: DJIA Stock Price Prediction')\n",
    "plt.xlabel('Time')\n",
    "plt.ylabel('DJIA Stock Price')\n",
    "plt.legend()\n",
    "plt.show()\n",
    "print(f'RMSE: {mean_squared_error(test_price, test_predicted, squared=False)}')"
   ]
  },
  {
   "cell_type": "code",
   "execution_count": null,
   "metadata": {},
   "outputs": [],
   "source": []
  },
  {
   "cell_type": "code",
   "execution_count": null,
   "metadata": {},
   "outputs": [],
   "source": []
  }
 ],
 "metadata": {
  "accelerator": "GPU",
  "colab": {
   "collapsed_sections": [],
   "name": "LSTM.ipynb",
   "provenance": [],
   "toc_visible": true
  },
  "interpreter": {
   "hash": "40d3a090f54c6569ab1632332b64b2c03c39dcf918b08424e98f38b5ae0af88f"
  },
  "kernelspec": {
   "display_name": "stock",
   "language": "python",
   "name": "python3"
  },
  "language_info": {
   "codemirror_mode": {
    "name": "ipython",
    "version": 3
   },
   "file_extension": ".py",
   "mimetype": "text/x-python",
   "name": "python",
   "nbconvert_exporter": "python",
   "pygments_lexer": "ipython3",
   "version": "3.8.8"
  }
 },
 "nbformat": 4,
 "nbformat_minor": 4
}
